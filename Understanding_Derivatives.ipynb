{
  "nbformat": 4,
  "nbformat_minor": 0,
  "metadata": {
    "colab": {
      "provenance": [],
      "collapsed_sections": []
    },
    "kernelspec": {
      "name": "python3",
      "display_name": "Python 3"
    },
    "language_info": {
      "name": "python"
    }
  },
  "cells": [
    {
      "cell_type": "markdown",
      "source": [
        "#### Necessary Imports & Installs"
      ],
      "metadata": {
        "id": "iPqo9tIjKEJB"
      }
    },
    {
      "cell_type": "code",
      "execution_count": 18,
      "metadata": {
        "id": "peu9exiPJaPO"
      },
      "outputs": [],
      "source": [
        "import math\n",
        "import numpy as np\n",
        "import matplotlib.pyplot as plt\n",
        "%matplotlib inline"
      ]
    },
    {
      "cell_type": "markdown",
      "source": [
        "#### Function to be differentiated: $f(x)=3x^2 - 4x + 5$ "
      ],
      "metadata": {
        "id": "F1JSHmPfLC5h"
      }
    },
    {
      "cell_type": "code",
      "source": [
        "def f(x):\n",
        "  return 3*x**2 - 4*x +5"
      ],
      "metadata": {
        "id": "7Jno8VOJKmvd"
      },
      "execution_count": 22,
      "outputs": []
    },
    {
      "cell_type": "code",
      "source": [
        "# Plotting the function\n",
        "x = np.arange(-5, 5, 0.25)\n",
        "y = f(x)\n",
        "plt.plot(x,y)\n",
        "plt.xlabel('x')\n",
        "plt.ylabel('f(x)')\n",
        "plt.grid()"
      ],
      "metadata": {
        "colab": {
          "base_uri": "https://localhost:8080/",
          "height": 279
        },
        "id": "CUshMIEmLTxm",
        "outputId": "f9fa2e3d-e346-490c-b972-16e44d615066"
      },
      "execution_count": 20,
      "outputs": [
        {
          "output_type": "display_data",
          "data": {
            "text/plain": [
              "<Figure size 432x288 with 1 Axes>"
            ],
            "image/png": "[encoded data removed]"
          },
          "metadata": {
            "needs_background": "light"
          }
        }
      ]
    },
    {
      "cell_type": "markdown",
      "source": [
        "The continous function _f(x)_ is said to be differentiable at point _a_ if the derivitive as defined below exists.\n",
        "\n",
        "$\\lim_{h \\to 0} \\frac{f(a+h) - f(a)}{h}$\n"
      ],
      "metadata": {
        "id": "sxDsX52gMiag"
      }
    },
    {
      "cell_type": "code",
      "source": [
        "h = 0.00000001\n",
        "\n",
        "# Taking the derivitive at a = 3\n",
        "a = 3.0\n",
        "df_da = (f(a+h)-f(a))/h\n",
        "print(f\"The derivitive at {a} is {df_da}\")\n",
        "\n",
        "# Taking the derivitive at a = -3\n",
        "a = -3.0\n",
        "df_da = (f(a+h)-f(a))/h\n",
        "print(f\"The derivitive at {a} is {df_da}\")\n",
        "\n",
        "# Taking the derivitive at a = 2/3\n",
        "a = 2/3\n",
        "df_da = (f(a+h)-f(a))/h\n",
        "print(f\"The derivitive at {a} is {df_da}\")"
      ],
      "metadata": {
        "colab": {
          "base_uri": "https://localhost:8080/"
        },
        "id": "C0Z-a4b5NZD2",
        "outputId": "7c333471-ce87-4bc7-866f-47a91a14458c"
      },
      "execution_count": 21,
      "outputs": [
        {
          "output_type": "stream",
          "name": "stdout",
          "text": [
            "The derivitive at 3.0 is 14.00000009255109\n",
            "The derivitive at -3.0 is -22.00000039920269\n",
            "The derivitive at 0.6666666666666666 is 0.0\n"
          ]
        }
      ]
    },
    {
      "cell_type": "markdown",
      "source": [
        "Switching a multi-variable function: $f(a,b,c) = a * b + c$ "
      ],
      "metadata": {
        "id": "JXGh5Mf4RATV"
      }
    },
    {
      "cell_type": "code",
      "source": [
        "def f(a=2.0, b=-3.0, c=10.0):\n",
        "  return a*b + c\n",
        "\n",
        "d1 = f()\n",
        "h = 0.00000001\n",
        "\n",
        "# Taking the derivitive with respect to a\n",
        "d2 = f(a=2.0+h)\n",
        "dd_da = (d2-d1) / h\n",
        "print(f\"The derivitive at 'a' is {dd_da}\")\n",
        "\n",
        "# Taking the derivitive with respect to b\n",
        "d2 = f(b=-3.0+h)\n",
        "dd_db = (d2-d1) / h\n",
        "print(f\"The derivitive at 'b' is {dd_db}\")\n",
        "\n",
        "# Taking the derivitive with respect to c\n",
        "d2 = f(c=10.0+h)\n",
        "dd_dc = (d2-d1) / h\n",
        "print(f\"The derivitive at 'c' is {dd_dc}\")"
      ],
      "metadata": {
        "colab": {
          "base_uri": "https://localhost:8080/"
        },
        "id": "kgKYihD1RGXP",
        "outputId": "080ac823-90d7-4974-d65d-6d62dd4dedb7"
      },
      "execution_count": 31,
      "outputs": [
        {
          "output_type": "stream",
          "name": "stdout",
          "text": [
            "The derivitive at 'a' is -2.999999981767587\n",
            "The derivitive at 'b' is 1.999999987845058\n",
            "The derivitive at 'c' is 1.000000082740371\n"
          ]
        }
      ]
    }
  ]
}