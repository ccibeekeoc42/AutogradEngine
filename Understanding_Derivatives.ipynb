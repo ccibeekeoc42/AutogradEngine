{
  "cells": [
    {
      "cell_type": "markdown",
      "metadata": {
        "id": "iPqo9tIjKEJB"
      },
      "source": [
        "#### Necessary Imports & Installs"
      ]
    },
    {
      "cell_type": "code",
      "execution_count": 78,
      "metadata": {
        "id": "peu9exiPJaPO"
      },
      "outputs": [],
      "source": [
        "import math\n",
        "import numpy as np\n",
        "import matplotlib.pyplot as plt\n",
        "%matplotlib inline"
      ]
    },
    {
      "cell_type": "markdown",
      "metadata": {
        "id": "F1JSHmPfLC5h"
      },
      "source": [
        "#### Function to be differentiated: $f(x)=3x^2 - 4x + 5$ "
      ]
    },
    {
      "cell_type": "code",
      "execution_count": 79,
      "metadata": {
        "id": "7Jno8VOJKmvd"
      },
      "outputs": [],
      "source": [
        "def f(x):\n",
        "  return 3*x**2 - 4*x +5"
      ]
    },
    {
      "cell_type": "code",
      "execution_count": 80,
      "metadata": {
        "colab": {
          "base_uri": "https://localhost:8080/",
          "height": 279
        },
        "id": "CUshMIEmLTxm",
        "outputId": "edbd57e4-5951-4b21-a150-1544eb9c28d8"
      },
      "outputs": [
        {
          "data": {
            "image/png": "[encoded data removed]",
            "text/plain": [
              "<Figure size 432x288 with 1 Axes>"
            ]
          },
          "metadata": {
            "needs_background": "light"
          },
          "output_type": "display_data"
        }
      ],
      "source": [
        "# Plotting the function\n",
        "x = np.arange(-5, 5, 0.25)\n",
        "y = f(x)\n",
        "plt.plot(x,y)\n",
        "plt.xlabel('x')\n",
        "plt.ylabel('f(x)')\n",
        "plt.grid()"
      ]
    },
    {
      "cell_type": "markdown",
      "metadata": {
        "id": "sxDsX52gMiag"
      },
      "source": [
        "The continous function _f(x)_ is said to be differentiable at point _a_ if the derivitive as defined below exists.\n",
        "\n",
        "$\\lim_{h \\to 0} \\frac{f(a+h) - f(a)}{h}$\n"
      ]
    },
    {
      "cell_type": "code",
      "execution_count": 81,
      "metadata": {
        "colab": {
          "base_uri": "https://localhost:8080/"
        },
        "id": "C0Z-a4b5NZD2",
        "outputId": "13ea65b6-385b-4b5c-a921-75cb314699ae"
      },
      "outputs": [
        {
          "name": "stdout",
          "output_type": "stream",
          "text": [
            "The derivitive at 3.0 is 14.00000009255109\n",
            "The derivitive at -3.0 is -22.00000039920269\n",
            "The derivitive at 0.6666666666666666 is 0.0\n"
          ]
        }
      ],
      "source": [
        "h = 0.00000001\n",
        "\n",
        "# Taking the derivitive at a = 3\n",
        "a = 3.0\n",
        "df_da = (f(a+h)-f(a))/h\n",
        "print(f\"The derivitive at {a} is {df_da}\")\n",
        "\n",
        "# Taking the derivitive at a = -3\n",
        "a = -3.0\n",
        "df_da = (f(a+h)-f(a))/h\n",
        "print(f\"The derivitive at {a} is {df_da}\")\n",
        "\n",
        "# Taking the derivitive at a = 2/3\n",
        "a = 2/3\n",
        "df_da = (f(a+h)-f(a))/h\n",
        "print(f\"The derivitive at {a} is {df_da}\")"
      ]
    },
    {
      "cell_type": "markdown",
      "metadata": {
        "id": "JXGh5Mf4RATV"
      },
      "source": [
        "Using a multi-variable function: $f(a,b,c) = a * b + c$ "
      ]
    },
    {
      "cell_type": "code",
      "execution_count": 82,
      "metadata": {
        "colab": {
          "base_uri": "https://localhost:8080/"
        },
        "id": "kgKYihD1RGXP",
        "outputId": "30c8144a-2d3c-4697-9022-ca94ca84d9c3"
      },
      "outputs": [
        {
          "name": "stdout",
          "output_type": "stream",
          "text": [
            "The derivitive at 'a' is -3.000000000010772\n",
            "The derivitive at 'b' is 2.0000000000042206\n",
            "The derivitive at 'c' is 0.9999999999976694\n"
          ]
        }
      ],
      "source": [
        "def f(a=2.0, b=-3.0, c=10.0):\n",
        "  return a*b + c\n",
        "\n",
        "d1 = f()\n",
        "h = 0.0001\n",
        "\n",
        "# Taking the derivitive with respect to a\n",
        "d2 = f(a=2.0+h)\n",
        "dd_da = (d2-d1) / h\n",
        "print(f\"The derivitive at 'a' is {dd_da}\")\n",
        "\n",
        "# Taking the derivitive with respect to b\n",
        "d2 = f(b=-3.0+h)\n",
        "dd_db = (d2-d1) / h\n",
        "print(f\"The derivitive at 'b' is {dd_db}\")\n",
        "\n",
        "# Taking the derivitive with respect to c\n",
        "d2 = f(c=10.0+h)\n",
        "dd_dc = (d2-d1) / h\n",
        "print(f\"The derivitive at 'c' is {dd_dc}\")"
      ]
    },
    {
      "cell_type": "markdown",
      "metadata": {
        "id": "GlfThPPbaFet"
      },
      "source": [
        "Using a Value Class to keep track of our dynamic computational graph\n"
      ]
    },
    {
      "cell_type": "code",
      "execution_count": 89,
      "metadata": {
        "id": "2uT0KpiUaF2r"
      },
      "outputs": [],
      "source": [
        "class Value:\n",
        "  \"\"\"Class to wrap up our scalar values.\"\"\"\n",
        "  def __init__(self, data, _children=(), _op=\"\", label=\"\"):\n",
        "    self.data = data\n",
        "    self.grad = 0.0\n",
        "    self.label = label\n",
        "    self._prev = set(_children)\n",
        "    self._op = _op\n",
        "\n",
        "  def __add__(self, other):\n",
        "    out = Value(self.data + other.data, _children=(self, other), _op='+')\n",
        "    return out\n",
        "\n",
        "  def __mul__(self, other):\n",
        "    out = Value(self.data * other.data, _children=(self, other), _op='*')\n",
        "    return out\n",
        "\n",
        "  def __repr__(self):\n",
        "    return f\"Value(data={self.data}, label={self.label})\""
      ]
    },
    {
      "cell_type": "markdown",
      "metadata": {
        "id": "yoHgRVpDfA3U"
      },
      "source": [
        "Defining the function with Value objects: $f(a,b,c) = a * b + c$ \n"
      ]
    },
    {
      "cell_type": "code",
      "execution_count": 90,
      "metadata": {
        "colab": {
          "base_uri": "https://localhost:8080/"
        },
        "id": "wVlkqTRca3LY",
        "outputId": "1e2d8750-e3fc-4ed0-a89b-fc2f707af29b"
      },
      "outputs": [
        {
          "name": "stdout",
          "output_type": "stream",
          "text": [
            "Value(data=16.0, label=d)\n"
          ]
        }
      ],
      "source": [
        "a = Value(2.0, label='a')\n",
        "b = Value(3.0, label='b')\n",
        "c = Value(10.0, label='c')\n",
        "e = a*b; e.label = 'e'\n",
        "d = e+c; d.label = 'd'\n",
        "print(d)"
      ]
    },
    {
      "cell_type": "code",
      "execution_count": 95,
      "metadata": {
        "id": "SrIeJhvQ3l8u"
      },
      "outputs": [],
      "source": [
        "# Manually setting each derivitives (with Chain rule)\n",
        "d.grad = 1 # dd/dd\n",
        "e.grad = 1 # dd/de\n",
        "c.grad = 1 # dd/dc\n",
        "b.grad = a.data * e.grad # dd/da = de/da * dd/de\n",
        "a.grad = b.data * e.grad # dd/da = de/db * dd/de"
      ]
    },
    {
      "cell_type": "markdown",
      "metadata": {
        "id": "0-PuP0QTf4R6"
      },
      "source": [
        "Visualizing our computational graph for the function $f(a,b,c) = a * b + c$ "
      ]
    },
    {
      "cell_type": "code",
      "execution_count": 85,
      "metadata": {
        "id": "c7KxASTxg_FI"
      },
      "outputs": [],
      "source": [
        "#!pip install graphviz"
      ]
    },
    {
      "cell_type": "code",
      "execution_count": 96,
      "metadata": {
        "colab": {
          "base_uri": "https://localhost:8080/",
          "height": 302
        },
        "id": "kXWDvpQ1gBcK",
        "outputId": "70da297c-1711-449d-c33c-15911d5841c7"
      },
      "outputs": [
        {
          "data": {
            "image/svg+xml": "<?xml version=\"1.0\" encoding=\"UTF-8\" standalone=\"no\"?>\n<!DOCTYPE svg PUBLIC \"-//W3C//DTD SVG 1.1//EN\"\n \"http://www.w3.org/Graphics/SVG/1.1/DTD/svg11.dtd\">\n<!-- Generated by graphviz version 2.40.1 (20161225.0304)\n -->\n<!-- Title: %3 Pages: 1 -->\n<svg width=\"543pt\" height=\"210pt\"\n viewBox=\"0.00 0.00 543.00 210.00\" xmlns=\"http://www.w3.org/2000/svg\" xmlns:xlink=\"http://www.w3.org/1999/xlink\">\n<g id=\"graph0\" class=\"graph\" transform=\"scale(1 1) rotate(0) translate(4 206)\">\n<title>%3</title>\n<polygon fill=\"#ffffff\" stroke=\"transparent\" points=\"-4,4 -4,-206 539,-206 539,4 -4,4\"/>\n<!-- 140187590066704 -->\n<g id=\"node1\" class=\"node\">\n<title>140187590066704</title>\n<polygon fill=\"none\" stroke=\"#000000\" points=\"0,-132.5 0,-201.5 91,-201.5 91,-132.5 0,-132.5\"/>\n<text text-anchor=\"middle\" x=\"45.5\" y=\"-186.3\" font-family=\"Times,serif\" font-size=\"14.00\" fill=\"#000000\">a</text>\n<polyline fill=\"none\" stroke=\"#000000\" points=\"0,-178.5 91,-178.5 \"/>\n<text text-anchor=\"middle\" x=\"45.5\" y=\"-163.3\" font-family=\"Times,serif\" font-size=\"14.00\" fill=\"#000000\">data: 2.0000</text>\n<polyline fill=\"none\" stroke=\"#000000\" points=\"0,-155.5 91,-155.5 \"/>\n<text text-anchor=\"middle\" x=\"45.5\" y=\"-140.3\" font-family=\"Times,serif\" font-size=\"14.00\" fill=\"#000000\">grad: 3.0000</text>\n</g>\n<!-- 140187590095056* -->\n<g id=\"node5\" class=\"node\">\n<title>140187590095056*</title>\n<ellipse fill=\"none\" stroke=\"#000000\" cx=\"154\" cy=\"-123\" rx=\"27\" ry=\"18\"/>\n<text text-anchor=\"middle\" x=\"154\" y=\"-119.3\" font-family=\"Times,serif\" font-size=\"14.00\" fill=\"#000000\">*</text>\n</g>\n<!-- 140187590066704&#45;&gt;140187590095056* -->\n<g id=\"edge6\" class=\"edge\">\n<title>140187590066704&#45;&gt;140187590095056*</title>\n<path fill=\"none\" stroke=\"#000000\" d=\"M91.1993,-148.4676C101.3434,-144.3538 111.8967,-140.0742 121.392,-136.2235\"/>\n<polygon fill=\"#000000\" stroke=\"#000000\" points=\"122.8909,-139.3926 130.8426,-132.391 120.2602,-132.9057 122.8909,-139.3926\"/>\n</g>\n<!-- 140187590068816 -->\n<g id=\"node2\" class=\"node\">\n<title>140187590068816</title>\n<polygon fill=\"none\" stroke=\"#000000\" points=\"217,-.5 217,-69.5 313,-69.5 313,-.5 217,-.5\"/>\n<text text-anchor=\"middle\" x=\"265\" y=\"-54.3\" font-family=\"Times,serif\" font-size=\"14.00\" fill=\"#000000\">c</text>\n<polyline fill=\"none\" stroke=\"#000000\" points=\"217,-46.5 313,-46.5 \"/>\n<text text-anchor=\"middle\" x=\"265\" y=\"-31.3\" font-family=\"Times,serif\" font-size=\"14.00\" fill=\"#000000\">data: 10.0000</text>\n<polyline fill=\"none\" stroke=\"#000000\" points=\"217,-23.5 313,-23.5 \"/>\n<text text-anchor=\"middle\" x=\"265\" y=\"-8.3\" font-family=\"Times,serif\" font-size=\"14.00\" fill=\"#000000\">grad: 1.0000</text>\n</g>\n<!-- 140187590095248+ -->\n<g id=\"node7\" class=\"node\">\n<title>140187590095248+</title>\n<ellipse fill=\"none\" stroke=\"#000000\" cx=\"376\" cy=\"-79\" rx=\"27\" ry=\"18\"/>\n<text text-anchor=\"middle\" x=\"376\" y=\"-75.3\" font-family=\"Times,serif\" font-size=\"14.00\" fill=\"#000000\">+</text>\n</g>\n<!-- 140187590068816&#45;&gt;140187590095248+ -->\n<g id=\"edge3\" class=\"edge\">\n<title>140187590068816&#45;&gt;140187590095248+</title>\n<path fill=\"none\" stroke=\"#000000\" d=\"M313.0406,-54.0431C323.2164,-58.0768 333.7329,-62.2455 343.1881,-65.9935\"/>\n<polygon fill=\"#000000\" stroke=\"#000000\" points=\"342.0125,-69.2924 352.5986,-69.7238 344.5921,-62.785 342.0125,-69.2924\"/>\n</g>\n<!-- 140187590069456 -->\n<g id=\"node3\" class=\"node\">\n<title>140187590069456</title>\n<polygon fill=\"none\" stroke=\"#000000\" points=\"0,-44.5 0,-113.5 91,-113.5 91,-44.5 0,-44.5\"/>\n<text text-anchor=\"middle\" x=\"45.5\" y=\"-98.3\" font-family=\"Times,serif\" font-size=\"14.00\" fill=\"#000000\">b</text>\n<polyline fill=\"none\" stroke=\"#000000\" points=\"0,-90.5 91,-90.5 \"/>\n<text text-anchor=\"middle\" x=\"45.5\" y=\"-75.3\" font-family=\"Times,serif\" font-size=\"14.00\" fill=\"#000000\">data: 3.0000</text>\n<polyline fill=\"none\" stroke=\"#000000\" points=\"0,-67.5 91,-67.5 \"/>\n<text text-anchor=\"middle\" x=\"45.5\" y=\"-52.3\" font-family=\"Times,serif\" font-size=\"14.00\" fill=\"#000000\">grad: 2.0000</text>\n</g>\n<!-- 140187590069456&#45;&gt;140187590095056* -->\n<g id=\"edge5\" class=\"edge\">\n<title>140187590069456&#45;&gt;140187590095056*</title>\n<path fill=\"none\" stroke=\"#000000\" d=\"M91.1993,-97.5324C101.3434,-101.6462 111.8967,-105.9258 121.392,-109.7765\"/>\n<polygon fill=\"#000000\" stroke=\"#000000\" points=\"120.2602,-113.0943 130.8426,-113.609 122.8909,-106.6074 120.2602,-113.0943\"/>\n</g>\n<!-- 140187590095056 -->\n<g id=\"node4\" class=\"node\">\n<title>140187590095056</title>\n<polygon fill=\"none\" stroke=\"#000000\" points=\"219.5,-88.5 219.5,-157.5 310.5,-157.5 310.5,-88.5 219.5,-88.5\"/>\n<text text-anchor=\"middle\" x=\"265\" y=\"-142.3\" font-family=\"Times,serif\" font-size=\"14.00\" fill=\"#000000\">e</text>\n<polyline fill=\"none\" stroke=\"#000000\" points=\"219.5,-134.5 310.5,-134.5 \"/>\n<text text-anchor=\"middle\" x=\"265\" y=\"-119.3\" font-family=\"Times,serif\" font-size=\"14.00\" fill=\"#000000\">data: 6.0000</text>\n<polyline fill=\"none\" stroke=\"#000000\" points=\"219.5,-111.5 310.5,-111.5 \"/>\n<text text-anchor=\"middle\" x=\"265\" y=\"-96.3\" font-family=\"Times,serif\" font-size=\"14.00\" fill=\"#000000\">grad: 1.0000</text>\n</g>\n<!-- 140187590095056&#45;&gt;140187590095248+ -->\n<g id=\"edge4\" class=\"edge\">\n<title>140187590095056&#45;&gt;140187590095248+</title>\n<path fill=\"none\" stroke=\"#000000\" d=\"M310.7888,-104.8495C321.7407,-100.5082 333.2134,-95.9605 343.4287,-91.9112\"/>\n<polygon fill=\"#000000\" stroke=\"#000000\" points=\"344.7728,-95.1434 352.7793,-88.2046 342.1933,-88.636 344.7728,-95.1434\"/>\n</g>\n<!-- 140187590095056*&#45;&gt;140187590095056 -->\n<g id=\"edge1\" class=\"edge\">\n<title>140187590095056*&#45;&gt;140187590095056</title>\n<path fill=\"none\" stroke=\"#000000\" d=\"M181.1537,-123C189.6328,-123 199.3185,-123 209.0236,-123\"/>\n<polygon fill=\"#000000\" stroke=\"#000000\" points=\"209.0947,-126.5001 219.0947,-123 209.0946,-119.5001 209.0947,-126.5001\"/>\n</g>\n<!-- 140187590095248 -->\n<g id=\"node6\" class=\"node\">\n<title>140187590095248</title>\n<polygon fill=\"none\" stroke=\"#000000\" points=\"439,-44.5 439,-113.5 535,-113.5 535,-44.5 439,-44.5\"/>\n<text text-anchor=\"middle\" x=\"487\" y=\"-98.3\" font-family=\"Times,serif\" font-size=\"14.00\" fill=\"#000000\">d</text>\n<polyline fill=\"none\" stroke=\"#000000\" points=\"439,-90.5 535,-90.5 \"/>\n<text text-anchor=\"middle\" x=\"487\" y=\"-75.3\" font-family=\"Times,serif\" font-size=\"14.00\" fill=\"#000000\">data: 16.0000</text>\n<polyline fill=\"none\" stroke=\"#000000\" points=\"439,-67.5 535,-67.5 \"/>\n<text text-anchor=\"middle\" x=\"487\" y=\"-52.3\" font-family=\"Times,serif\" font-size=\"14.00\" fill=\"#000000\">grad: 1.0000</text>\n</g>\n<!-- 140187590095248+&#45;&gt;140187590095248 -->\n<g id=\"edge2\" class=\"edge\">\n<title>140187590095248+&#45;&gt;140187590095248</title>\n<path fill=\"none\" stroke=\"#000000\" d=\"M403.1537,-79C410.9879,-79 419.8523,-79 428.8103,-79\"/>\n<polygon fill=\"#000000\" stroke=\"#000000\" points=\"428.914,-82.5001 438.914,-79 428.914,-75.5001 428.914,-82.5001\"/>\n</g>\n</g>\n</svg>\n",
            "text/plain": [
              "<graphviz.dot.Digraph at 0x7f7ff784e610>"
            ]
          },
          "execution_count": 96,
          "metadata": {},
          "output_type": "execute_result"
        }
      ],
      "source": [
        "# The code below is strictly for visualization purposes only!!!\n",
        "from graphviz import Digraph\n",
        "\n",
        "def trace(root):\n",
        "    '''Builds a set of all nodes and edges in a graph'''\n",
        "    nodes, edges = set(), set()\n",
        "    def build(v):\n",
        "        if v not in nodes:\n",
        "            nodes.add(v)\n",
        "            for child in v._prev:\n",
        "                edges.add((child, v))\n",
        "                build(child)\n",
        "    build(root)\n",
        "    return nodes, edges\n",
        "\n",
        "def draw_dot(root):\n",
        "    dot = Digraph(format='svg', graph_attr={'rankdir': 'LR'}) #LR = left to right\n",
        "    nodes, edges = trace(root)\n",
        "    for n in nodes:\n",
        "        uid = str(id(n))\n",
        "        # creating a rectangular 'record' node for every value in the graph\n",
        "        dot.node(name=uid, label=f\"{n.label}|data:{n.data: .4f}|grad:{n.grad: .4f}\", shape='record')\n",
        "        if n._op:\n",
        "            #if the value is resulting from some operation, (not a leaf node)\n",
        "            dot.node(name=uid+n._op, label = n._op)\n",
        "            dot.edge(uid+n._op,uid) #connect this op node to the resulting node\n",
        "    for n1, n2 in edges:\n",
        "        dot.edge(str(id(n1)),str(id(n2))+n2._op)\n",
        "    return dot\n",
        "\n",
        "draw_dot(d)"
      ]
    },
    {
      "cell_type": "markdown",
      "metadata": {},
      "source": [
        "The End! Visit `AutoGrad.ipynb` for continuation."
      ]
    }
  ],
  "metadata": {
    "colab": {
      "collapsed_sections": [],
      "provenance": []
    },
    "kernelspec": {
      "display_name": "Python 3.9.2 64-bit",
      "language": "python",
      "name": "python3"
    },
    "language_info": {
      "name": "python",
      "version": "3.9.2"
    },
    "vscode": {
      "interpreter": {
        "hash": "f6f705f2978c9240c3db0316866e15abf7967f947e1c0ce4644e18b5928d76c0"
      }
    }
  },
  "nbformat": 4,
  "nbformat_minor": 0
}
