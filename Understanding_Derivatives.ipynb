{
  "cells": [
    {
      "cell_type": "markdown",
      "metadata": {
        "id": "iPqo9tIjKEJB"
      },
      "source": [
        "#### Necessary Imports & Installs"
      ]
    },
    {
      "cell_type": "code",
      "execution_count": 9,
      "metadata": {
        "id": "peu9exiPJaPO"
      },
      "outputs": [],
      "source": [
        "import math\n",
        "import numpy as np\n",
        "import matplotlib.pyplot as plt\n",
        "%matplotlib inline"
      ]
    },
    {
      "cell_type": "markdown",
      "metadata": {
        "id": "F1JSHmPfLC5h"
      },
      "source": [
        "#### Function to be differentiated: $f(x)=3x^2 - 4x + 5$ "
      ]
    },
    {
      "cell_type": "code",
      "execution_count": 10,
      "metadata": {
        "id": "7Jno8VOJKmvd"
      },
      "outputs": [],
      "source": [
        "def f(x):\n",
        "  return 3*x**2 - 4*x +5"
      ]
    },
    {
      "cell_type": "code",
      "execution_count": 11,
      "metadata": {
        "colab": {
          "base_uri": "https://localhost:8080/",
          "height": 279
        },
        "id": "CUshMIEmLTxm",
        "outputId": "f9fa2e3d-e346-490c-b972-16e44d615066"
      },
      "outputs": [
        {
          "data": {
            "image/png": "[encoded data removed]",
            "text/plain": [
              "<Figure size 432x288 with 1 Axes>"
            ]
          },
          "metadata": {
            "needs_background": "light"
          },
          "output_type": "display_data"
        }
      ],
      "source": [
        "# Plotting the function\n",
        "x = np.arange(-5, 5, 0.25)\n",
        "y = f(x)\n",
        "plt.plot(x,y)\n",
        "plt.xlabel('x')\n",
        "plt.ylabel('f(x)')\n",
        "plt.grid()"
      ]
    },
    {
      "cell_type": "markdown",
      "metadata": {
        "id": "sxDsX52gMiag"
      },
      "source": [
        "The continous function _f(x)_ is said to be differentiable at point _a_ if the derivitive as defined below exists.\n",
        "\n",
        "$\\lim_{h \\to 0} \\frac{f(a+h) - f(a)}{h}$\n"
      ]
    },
    {
      "cell_type": "code",
      "execution_count": 12,
      "metadata": {
        "colab": {
          "base_uri": "https://localhost:8080/"
        },
        "id": "C0Z-a4b5NZD2",
        "outputId": "7c333471-ce87-4bc7-866f-47a91a14458c"
      },
      "outputs": [
        {
          "name": "stdout",
          "output_type": "stream",
          "text": [
            "The derivitive at 3.0 is 14.00000009255109\n",
            "The derivitive at -3.0 is -22.00000039920269\n",
            "The derivitive at 0.6666666666666666 is 0.0\n"
          ]
        }
      ],
      "source": [
        "h = 0.00000001\n",
        "\n",
        "# Taking the derivitive at a = 3\n",
        "a = 3.0\n",
        "df_da = (f(a+h)-f(a))/h\n",
        "print(f\"The derivitive at {a} is {df_da}\")\n",
        "\n",
        "# Taking the derivitive at a = -3\n",
        "a = -3.0\n",
        "df_da = (f(a+h)-f(a))/h\n",
        "print(f\"The derivitive at {a} is {df_da}\")\n",
        "\n",
        "# Taking the derivitive at a = 2/3\n",
        "a = 2/3\n",
        "df_da = (f(a+h)-f(a))/h\n",
        "print(f\"The derivitive at {a} is {df_da}\")"
      ]
    },
    {
      "cell_type": "markdown",
      "metadata": {
        "id": "JXGh5Mf4RATV"
      },
      "source": [
        "Using a multi-variable function: $f(a,b,c) = a * b + c$ "
      ]
    },
    {
      "cell_type": "code",
      "execution_count": 13,
      "metadata": {
        "colab": {
          "base_uri": "https://localhost:8080/"
        },
        "id": "kgKYihD1RGXP",
        "outputId": "b0c01c26-a9f2-43f7-dc03-127d27784534"
      },
      "outputs": [
        {
          "name": "stdout",
          "output_type": "stream",
          "text": [
            "The derivitive at 'a' is -3.000000000010772\n",
            "The derivitive at 'b' is 2.0000000000042206\n",
            "The derivitive at 'c' is 0.9999999999976694\n"
          ]
        }
      ],
      "source": [
        "def f(a=2.0, b=-3.0, c=10.0):\n",
        "  return a*b + c\n",
        "\n",
        "d1 = f()\n",
        "h = 0.0001\n",
        "\n",
        "# Taking the derivitive with respect to a\n",
        "d2 = f(a=2.0+h)\n",
        "dd_da = (d2-d1) / h\n",
        "print(f\"The derivitive at 'a' is {dd_da}\")\n",
        "\n",
        "# Taking the derivitive with respect to b\n",
        "d2 = f(b=-3.0+h)\n",
        "dd_db = (d2-d1) / h\n",
        "print(f\"The derivitive at 'b' is {dd_db}\")\n",
        "\n",
        "# Taking the derivitive with respect to c\n",
        "d2 = f(c=10.0+h)\n",
        "dd_dc = (d2-d1) / h\n",
        "print(f\"The derivitive at 'c' is {dd_dc}\")"
      ]
    },
    {
      "cell_type": "markdown",
      "metadata": {
        "id": "GlfThPPbaFet"
      },
      "source": [
        "Using a Value Class to keep track of our dynamic computational graph\n"
      ]
    },
    {
      "cell_type": "code",
      "execution_count": 14,
      "metadata": {
        "id": "2uT0KpiUaF2r"
      },
      "outputs": [],
      "source": [
        "class Value:\n",
        "  \"\"\"Class to wrap up our scalar values.\"\"\"\n",
        "  def __init__(self, data, _children=(), _op=\"\", label=\"\"):\n",
        "    self.data = data\n",
        "    self.label = label\n",
        "    self._prev = set(_children)\n",
        "    self._op = _op\n",
        "\n",
        "  def __add__(self, other):\n",
        "    out = Value(self.data + other.data, _children=(self, other), _op='+')\n",
        "    return out\n",
        "\n",
        "  def __mul__(self, other):\n",
        "    out = Value(self.data * other.data, _children=(self, other), _op='*')\n",
        "    return out\n",
        "\n",
        "  def __repr__(self):\n",
        "    return f\"Value(data={self.data}, label={self.label})\""
      ]
    },
    {
      "cell_type": "markdown",
      "metadata": {
        "id": "yoHgRVpDfA3U"
      },
      "source": [
        "Defining the function with Value objects: $f(a,b,c) = a * b + c$ \n"
      ]
    },
    {
      "cell_type": "code",
      "execution_count": 15,
      "metadata": {
        "colab": {
          "base_uri": "https://localhost:8080/"
        },
        "id": "wVlkqTRca3LY",
        "outputId": "9c3e822e-49b5-4c14-c70b-7aeacd859afe"
      },
      "outputs": [
        {
          "name": "stdout",
          "output_type": "stream",
          "text": [
            "Value(data=16.0, label=d)\n"
          ]
        }
      ],
      "source": [
        "a = Value(2.0, label='a')\n",
        "b = Value(3.0, label='b')\n",
        "c = Value(10.0, label='c')\n",
        "e = a*b; e.label = 'e'\n",
        "d = e+c; d.label = 'd'\n",
        "print(d)"
      ]
    },
    {
      "cell_type": "markdown",
      "metadata": {
        "id": "0-PuP0QTf4R6"
      },
      "source": [
        "Visualizing our computational graph for the function $f(a,b,c) = a * b + c$ "
      ]
    },
    {
      "cell_type": "code",
      "execution_count": null,
      "metadata": {},
      "outputs": [],
      "source": [
        "#!pip install graphviz"
      ]
    },
    {
      "cell_type": "code",
      "execution_count": 16,
      "metadata": {
        "colab": {
          "base_uri": "https://localhost:8080/",
          "height": 224
        },
        "id": "kXWDvpQ1gBcK",
        "outputId": "03953bc5-93a6-43f1-9f2f-8fca6800770b"
      },
      "outputs": [
        {
          "data": {
            "image/svg+xml": "<?xml version=\"1.0\" encoding=\"UTF-8\" standalone=\"no\"?>\n<!DOCTYPE svg PUBLIC \"-//W3C//DTD SVG 1.1//EN\"\n \"http://www.w3.org/Graphics/SVG/1.1/DTD/svg11.dtd\">\n<!-- Generated by graphviz version 2.50.0 (0)\n -->\n<!-- Pages: 1 -->\n<svg width=\"526pt\" height=\"153pt\"\n viewBox=\"0.00 0.00 526.00 153.00\" xmlns=\"http://www.w3.org/2000/svg\" xmlns:xlink=\"http://www.w3.org/1999/xlink\">\n<g id=\"graph0\" class=\"graph\" transform=\"scale(1 1) rotate(0) translate(4 149)\">\n<polygon fill=\"white\" stroke=\"transparent\" points=\"-4,4 -4,-149 522,-149 522,4 -4,4\"/>\n<!-- 2588647426752 -->\n<g id=\"node1\" class=\"node\">\n<title>2588647426752</title>\n<polygon fill=\"none\" stroke=\"black\" points=\"0,-98.5 0,-144.5 84,-144.5 84,-98.5 0,-98.5\"/>\n<text text-anchor=\"middle\" x=\"42\" y=\"-129.3\" font-family=\"Times New Roman,serif\" font-size=\"14.00\">a</text>\n<polyline fill=\"none\" stroke=\"black\" points=\"0,-121.5 84,-121.5 \"/>\n<text text-anchor=\"middle\" x=\"42\" y=\"-106.3\" font-family=\"Times New Roman,serif\" font-size=\"14.00\">data: 2.0000</text>\n</g>\n<!-- 2588647502080* -->\n<g id=\"node5\" class=\"node\">\n<title>2588647502080*</title>\n<ellipse fill=\"none\" stroke=\"black\" cx=\"147\" cy=\"-88.5\" rx=\"27\" ry=\"18\"/>\n<text text-anchor=\"middle\" x=\"147\" y=\"-84.8\" font-family=\"Times New Roman,serif\" font-size=\"14.00\">*</text>\n</g>\n<!-- 2588647426752&#45;&gt;2588647502080* -->\n<g id=\"edge4\" class=\"edge\">\n<title>2588647426752&#45;&gt;2588647502080*</title>\n<path fill=\"none\" stroke=\"black\" d=\"M84,-108.36C93.56,-105.3 103.62,-102.08 112.8,-99.14\"/>\n<polygon fill=\"black\" stroke=\"black\" points=\"113.88,-102.47 122.33,-96.08 111.74,-95.8 113.88,-102.47\"/>\n</g>\n<!-- 2588647502032 -->\n<g id=\"node2\" class=\"node\">\n<title>2588647502032</title>\n<polygon fill=\"none\" stroke=\"black\" points=\"427,-32.5 427,-78.5 518,-78.5 518,-32.5 427,-32.5\"/>\n<text text-anchor=\"middle\" x=\"472.5\" y=\"-63.3\" font-family=\"Times New Roman,serif\" font-size=\"14.00\">d</text>\n<polyline fill=\"none\" stroke=\"black\" points=\"427,-55.5 518,-55.5 \"/>\n<text text-anchor=\"middle\" x=\"472.5\" y=\"-40.3\" font-family=\"Times New Roman,serif\" font-size=\"14.00\">data: 16.0000</text>\n</g>\n<!-- 2588647502032+ -->\n<g id=\"node3\" class=\"node\">\n<title>2588647502032+</title>\n<ellipse fill=\"none\" stroke=\"black\" cx=\"364\" cy=\"-55.5\" rx=\"27\" ry=\"18\"/>\n<text text-anchor=\"middle\" x=\"364\" y=\"-51.8\" font-family=\"Times New Roman,serif\" font-size=\"14.00\">+</text>\n</g>\n<!-- 2588647502032+&#45;&gt;2588647502032 -->\n<g id=\"edge1\" class=\"edge\">\n<title>2588647502032+&#45;&gt;2588647502032</title>\n<path fill=\"none\" stroke=\"black\" d=\"M391.05,-55.5C398.84,-55.5 407.68,-55.5 416.59,-55.5\"/>\n<polygon fill=\"black\" stroke=\"black\" points=\"416.62,-59 426.62,-55.5 416.62,-52 416.62,-59\"/>\n</g>\n<!-- 2588647502080 -->\n<g id=\"node4\" class=\"node\">\n<title>2588647502080</title>\n<polygon fill=\"none\" stroke=\"black\" points=\"213.5,-65.5 213.5,-111.5 297.5,-111.5 297.5,-65.5 213.5,-65.5\"/>\n<text text-anchor=\"middle\" x=\"255.5\" y=\"-96.3\" font-family=\"Times New Roman,serif\" font-size=\"14.00\">e</text>\n<polyline fill=\"none\" stroke=\"black\" points=\"213.5,-88.5 297.5,-88.5 \"/>\n<text text-anchor=\"middle\" x=\"255.5\" y=\"-73.3\" font-family=\"Times New Roman,serif\" font-size=\"14.00\">data: 6.0000</text>\n</g>\n<!-- 2588647502080&#45;&gt;2588647502032+ -->\n<g id=\"edge3\" class=\"edge\">\n<title>2588647502080&#45;&gt;2588647502032+</title>\n<path fill=\"none\" stroke=\"black\" d=\"M297.68,-75.74C308.21,-72.48 319.41,-69.01 329.51,-65.88\"/>\n<polygon fill=\"black\" stroke=\"black\" points=\"330.66,-69.19 339.17,-62.88 328.59,-62.5 330.66,-69.19\"/>\n</g>\n<!-- 2588647502080*&#45;&gt;2588647502080 -->\n<g id=\"edge2\" class=\"edge\">\n<title>2588647502080*&#45;&gt;2588647502080</title>\n<path fill=\"none\" stroke=\"black\" d=\"M174.05,-88.5C182.92,-88.5 193.16,-88.5 203.31,-88.5\"/>\n<polygon fill=\"black\" stroke=\"black\" points=\"203.36,-92 213.36,-88.5 203.36,-85 203.36,-92\"/>\n</g>\n<!-- 2588647376160 -->\n<g id=\"node6\" class=\"node\">\n<title>2588647376160</title>\n<polygon fill=\"none\" stroke=\"black\" points=\"0,-33.5 0,-79.5 84,-79.5 84,-33.5 0,-33.5\"/>\n<text text-anchor=\"middle\" x=\"42\" y=\"-64.3\" font-family=\"Times New Roman,serif\" font-size=\"14.00\">b</text>\n<polyline fill=\"none\" stroke=\"black\" points=\"0,-56.5 84,-56.5 \"/>\n<text text-anchor=\"middle\" x=\"42\" y=\"-41.3\" font-family=\"Times New Roman,serif\" font-size=\"14.00\">data: 3.0000</text>\n</g>\n<!-- 2588647376160&#45;&gt;2588647502080* -->\n<g id=\"edge6\" class=\"edge\">\n<title>2588647376160&#45;&gt;2588647502080*</title>\n<path fill=\"none\" stroke=\"black\" d=\"M84,-69.24C93.46,-72.18 103.41,-75.27 112.5,-78.09\"/>\n<polygon fill=\"black\" stroke=\"black\" points=\"111.75,-81.52 122.33,-81.15 113.82,-74.84 111.75,-81.52\"/>\n</g>\n<!-- 2588647503136 -->\n<g id=\"node7\" class=\"node\">\n<title>2588647503136</title>\n<polygon fill=\"none\" stroke=\"black\" points=\"210,-0.5 210,-46.5 301,-46.5 301,-0.5 210,-0.5\"/>\n<text text-anchor=\"middle\" x=\"255.5\" y=\"-31.3\" font-family=\"Times New Roman,serif\" font-size=\"14.00\">c</text>\n<polyline fill=\"none\" stroke=\"black\" points=\"210,-23.5 301,-23.5 \"/>\n<text text-anchor=\"middle\" x=\"255.5\" y=\"-8.3\" font-family=\"Times New Roman,serif\" font-size=\"14.00\">data: 10.0000</text>\n</g>\n<!-- 2588647503136&#45;&gt;2588647502032+ -->\n<g id=\"edge5\" class=\"edge\">\n<title>2588647503136&#45;&gt;2588647502032+</title>\n<path fill=\"none\" stroke=\"black\" d=\"M301.05,-36.89C310.49,-39.72 320.31,-42.67 329.27,-45.37\"/>\n<polygon fill=\"black\" stroke=\"black\" points=\"328.37,-48.75 338.96,-48.28 330.39,-42.05 328.37,-48.75\"/>\n</g>\n</g>\n</svg>\n",
            "text/plain": [
              "<graphviz.graphs.Digraph at 0x25aa3e737c0>"
            ]
          },
          "execution_count": 16,
          "metadata": {},
          "output_type": "execute_result"
        }
      ],
      "source": [
        "# The code below is strictly for visualization purposes only!!!\n",
        "from graphviz import Digraph\n",
        "\n",
        "def trace(root):\n",
        "    '''Builds a set of all nodes and edges in a graph'''\n",
        "    nodes, edges = set(), set()\n",
        "    def build(v):\n",
        "        if v not in nodes:\n",
        "            nodes.add(v)\n",
        "            for child in v._prev:\n",
        "                edges.add((child, v))\n",
        "                build(child)\n",
        "    build(root)\n",
        "    return nodes, edges\n",
        "\n",
        "def draw_dot(root):\n",
        "    dot = Digraph(format='svg', graph_attr={'rankdir': 'LR'}) #LR = left to right\n",
        "    nodes, edges = trace(root)\n",
        "    for n in nodes:\n",
        "        uid = str(id(n))\n",
        "        # creating a rectangular 'record' node for every value in the graph\n",
        "        dot.node(name=uid, label=f\"{n.label}|data:{n.data: .4f}\", shape='record')\n",
        "        if n._op:\n",
        "            #if the value is resulting from some operation, (not a leaf node)\n",
        "            dot.node(name=uid+n._op, label = n._op)\n",
        "            dot.edge(uid+n._op,uid) #connect this op node to the resulting node\n",
        "    for n1, n2 in edges:\n",
        "        dot.edge(str(id(n1)),str(id(n2))+n2._op)\n",
        "    return dot\n",
        "\n",
        "draw_dot(d)"
      ]
    }
  ],
  "metadata": {
    "colab": {
      "collapsed_sections": [],
      "provenance": []
    },
    "kernelspec": {
      "display_name": "Python 3",
      "name": "python3"
    },
    "language_info": {
      "name": "python"
    }
  },
  "nbformat": 4,
  "nbformat_minor": 0
}
