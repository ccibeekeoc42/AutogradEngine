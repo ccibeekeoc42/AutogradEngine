{
  "cells": [
    {
      "cell_type": "markdown",
      "metadata": {
        "id": "1jBQtWJWA1Uk"
      },
      "source": [
        "#### Necessary Imports & Installs"
      ]
    },
    {
      "cell_type": "code",
      "execution_count": 9,
      "metadata": {
        "id": "m01wG9CCgXWJ"
      },
      "outputs": [],
      "source": [
        "#!pip install graphviz\n",
        "#!pip install torch"
      ]
    },
    {
      "cell_type": "code",
      "execution_count": 10,
      "metadata": {
        "id": "2KHe8gQTyCrG"
      },
      "outputs": [],
      "source": [
        "import math\n",
        "import numpy as np\n",
        "import matplotlib.pyplot as plt\n",
        "%matplotlib inline\n",
        "import torch\n",
        "import random"
      ]
    },
    {
      "cell_type": "markdown",
      "metadata": {
        "id": "JafFqI63A5Q-"
      },
      "source": [
        "#### Building Value Data Structure for the AutoGrad Engine"
      ]
    },
    {
      "cell_type": "code",
      "execution_count": 11,
      "metadata": {
        "id": "Hl9f-sIEkp3w"
      },
      "outputs": [],
      "source": [
        "class Value:\n",
        "    def __init__(self, data, _children=(), _op='', label=''):\n",
        "        self.data = data\n",
        "        self.grad = 0.0\n",
        "        self._backward = lambda: None\n",
        "        self._prev = set(_children)\n",
        "        self._op = _op\n",
        "        self.label = label\n",
        "    \n",
        "    def __add__(self, other):\n",
        "        other = other if isinstance(other, Value) else Value(other)\n",
        "        out = Value(self.data + other.data, (self, other), '+')\n",
        "        def _backward():\n",
        "            self.grad += 1.0 * out.grad\n",
        "            other.grad += 1.0 * out.grad\n",
        "        out._backward = _backward\n",
        "        return out\n",
        "    \n",
        "    def __radd__(self, other):\n",
        "        return self + other \n",
        "    \n",
        "    def __neg__(self):\n",
        "        return self * -1\n",
        "    \n",
        "    def __sub__(self, other):\n",
        "        return self + (-other)\n",
        "    \n",
        "    def __mul__(self, other):\n",
        "        other = other if isinstance(other, Value) else Value(other)\n",
        "        out = Value(self.data * other.data, (self, other), '*')\n",
        "        def _backward():\n",
        "            self.grad += other.data * out.grad\n",
        "            other.grad += self.data * out.grad\n",
        "        out._backward = _backward\n",
        "        return out\n",
        "    \n",
        "    def __rmul__(self, other):\n",
        "        return self * other\n",
        "    \n",
        "    def __pow__(self, other):\n",
        "        assert isinstance(other, (int, float)), \"only supports int/float powers for now\"\n",
        "        out = Value(self.data**other, (self, ), f'**{other}')\n",
        "        \n",
        "        def _backward():\n",
        "            self.grad += other * (self.data ** (other - 1)) * out.grad\n",
        "        out._backward = _backward\n",
        "        \n",
        "        return out\n",
        "    \n",
        "    def __truediv__(self, other):\n",
        "        return self * other**-1\n",
        "    \n",
        "    def tanh(self):\n",
        "        x = self.data\n",
        "        t = (math.exp(2*x) - 1) / (math.exp(2*x) + 1) \n",
        "        out = Value(t, (self, ), 'tanh')\n",
        "        \n",
        "        def _backward():\n",
        "            self.grad += (1 - t**2) * out.grad\n",
        "        out._backward = _backward\n",
        "    \n",
        "        return out\n",
        "\n",
        "    def sigmoid(self):\n",
        "        x = self.data\n",
        "        t = 1 / (1 + math.exp(-x)) \n",
        "        out = Value(t, (self, ), 'sigmoid')\n",
        "        \n",
        "        def _backward():\n",
        "            self.grad += t * (1 - t) * out.grad\n",
        "        out._backward = _backward\n",
        "    \n",
        "        return out\n",
        "    \n",
        "    def exp(self):\n",
        "        x = self.data\n",
        "        out = Value(math.exp(x), (self, ), 'exp')\n",
        "        \n",
        "        def _backward():\n",
        "            self.grad += out.data * out.grad\n",
        "        out._backward = _backward\n",
        "    \n",
        "        return out\n",
        "    \n",
        "    def backward(self):\n",
        "        topo = []\n",
        "        visited = set()\n",
        "        def build_topo(v):\n",
        "            if v not in visited:\n",
        "                visited.add(v)\n",
        "                for child in v._prev:\n",
        "                    build_topo(child)\n",
        "                topo.append(v)\n",
        "        build_topo(self)\n",
        "        \n",
        "        self.grad = 1.0\n",
        "        for node in reversed(topo):\n",
        "            node._backward()\n",
        "    \n",
        "    def __repr__(self):\n",
        "      \"\"\"How the 'print' function displays our object\"\"\"\n",
        "      return f\"Value(data={self.data}, label={self.label})\""
      ]
    },
    {
      "cell_type": "markdown",
      "metadata": {
        "id": "DQplmIaXmECC"
      },
      "source": [
        "#### Visualizing our entire $NN$ expression"
      ]
    },
    {
      "cell_type": "code",
      "execution_count": 12,
      "metadata": {
        "id": "cS3KDFfOktQO"
      },
      "outputs": [],
      "source": [
        "from graphviz import Digraph\n",
        "\n",
        "def trace(root):\n",
        "    '''Builds a set of all nodes and edges in a graph'''\n",
        "    nodes, edges = set(), set()\n",
        "    def build(v):\n",
        "        if v not in nodes:\n",
        "            nodes.add(v)\n",
        "            for child in v._prev:\n",
        "                edges.add((child, v))\n",
        "                build(child)\n",
        "    build(root)\n",
        "    return nodes, edges\n",
        "\n",
        "def draw_dot(root):\n",
        "    dot = Digraph(format='svg', graph_attr={'rankdir': 'LR'}) #LR = left to right\n",
        "    nodes, edges = trace(root)\n",
        "    for n in nodes:\n",
        "        uid = str(id(n))\n",
        "        # creating a rectangular 'record' node for every value in the graph\n",
        "        dot.node(name=uid, label=f\"{n.label}|data:{n.data: .4f}|grad:{n.grad: .4f}\", shape='record')\n",
        "        if n._op:\n",
        "            #if the value is resulting from some operation, (not a leaf node)\n",
        "            dot.node(name=uid+n._op, label = n._op)\n",
        "            dot.edge(uid+n._op,uid) #connect this op node to the resulting node\n",
        "    for n1, n2 in edges:\n",
        "        dot.edge(str(id(n1)),str(id(n2))+n2._op)\n",
        "    return dot"
      ]
    },
    {
      "cell_type": "markdown",
      "metadata": {
        "id": "MLNG8TqjH-Ie"
      },
      "source": [
        "#### Example of a single neuron"
      ]
    },
    {
      "cell_type": "code",
      "execution_count": 15,
      "metadata": {
        "colab": {
          "base_uri": "https://localhost:8080/",
          "height": 498
        },
        "id": "nBJBLTaIh8Hp",
        "outputId": "dd9ef97e-8ea9-479a-9046-277e837a0e3c"
      },
      "outputs": [
        {
          "data": {
            "image/svg+xml": "<?xml version=\"1.0\" encoding=\"UTF-8\" standalone=\"no\"?>\n<!DOCTYPE svg PUBLIC \"-//W3C//DTD SVG 1.1//EN\"\n \"http://www.w3.org/Graphics/SVG/1.1/DTD/svg11.dtd\">\n<!-- Generated by graphviz version 2.50.0 (0)\n -->\n<!-- Pages: 1 -->\n<svg width=\"948pt\" height=\"342pt\"\n viewBox=\"0.00 0.00 948.00 342.00\" xmlns=\"http://www.w3.org/2000/svg\" xmlns:xlink=\"http://www.w3.org/1999/xlink\">\n<g id=\"graph0\" class=\"graph\" transform=\"scale(1 1) rotate(0) translate(4 338)\">\n<polygon fill=\"white\" stroke=\"transparent\" points=\"-4,4 -4,-338 944,-338 944,4 -4,4\"/>\n<!-- 2027466791424 -->\n<g id=\"node1\" class=\"node\">\n<title>2027466791424</title>\n<polygon fill=\"none\" stroke=\"black\" points=\"212,-88.5 212,-157.5 298,-157.5 298,-88.5 212,-88.5\"/>\n<text text-anchor=\"middle\" x=\"255\" y=\"-142.3\" font-family=\"Times New Roman,serif\" font-size=\"14.00\">x2*w2</text>\n<polyline fill=\"none\" stroke=\"black\" points=\"212,-134.5 298,-134.5 \"/>\n<text text-anchor=\"middle\" x=\"255\" y=\"-119.3\" font-family=\"Times New Roman,serif\" font-size=\"14.00\">data: 0.0000</text>\n<polyline fill=\"none\" stroke=\"black\" points=\"212,-111.5 298,-111.5 \"/>\n<text text-anchor=\"middle\" x=\"255\" y=\"-96.3\" font-family=\"Times New Roman,serif\" font-size=\"14.00\">grad: 0.5000</text>\n</g>\n<!-- 2027466791376+ -->\n<g id=\"node15\" class=\"node\">\n<title>2027466791376+</title>\n<ellipse fill=\"none\" stroke=\"black\" cx=\"361\" cy=\"-167\" rx=\"27\" ry=\"18\"/>\n<text text-anchor=\"middle\" x=\"361\" y=\"-163.3\" font-family=\"Times New Roman,serif\" font-size=\"14.00\">+</text>\n</g>\n<!-- 2027466791424&#45;&gt;2027466791376+ -->\n<g id=\"edge7\" class=\"edge\">\n<title>2027466791424&#45;&gt;2027466791376+</title>\n<path fill=\"none\" stroke=\"black\" d=\"M298,-140.77C308.13,-145.05 318.78,-149.56 328.34,-153.61\"/>\n<polygon fill=\"black\" stroke=\"black\" points=\"327.27,-156.95 337.84,-157.63 330,-150.51 327.27,-156.95\"/>\n</g>\n<!-- 2027466791424* -->\n<g id=\"node2\" class=\"node\">\n<title>2027466791424*</title>\n<ellipse fill=\"none\" stroke=\"black\" cx=\"149\" cy=\"-123\" rx=\"27\" ry=\"18\"/>\n<text text-anchor=\"middle\" x=\"149\" y=\"-119.3\" font-family=\"Times New Roman,serif\" font-size=\"14.00\">*</text>\n</g>\n<!-- 2027466791424*&#45;&gt;2027466791424 -->\n<g id=\"edge1\" class=\"edge\">\n<title>2027466791424*&#45;&gt;2027466791424</title>\n<path fill=\"none\" stroke=\"black\" d=\"M176.24,-123C184.11,-123 193.04,-123 201.96,-123\"/>\n<polygon fill=\"black\" stroke=\"black\" points=\"201.98,-126.5 211.98,-123 201.98,-119.5 201.98,-126.5\"/>\n</g>\n<!-- 2027466790416 -->\n<g id=\"node3\" class=\"node\">\n<title>2027466790416</title>\n<polygon fill=\"none\" stroke=\"black\" points=\"0,-264.5 0,-333.5 86,-333.5 86,-264.5 0,-264.5\"/>\n<text text-anchor=\"middle\" x=\"43\" y=\"-318.3\" font-family=\"Times New Roman,serif\" font-size=\"14.00\">w1</text>\n<polyline fill=\"none\" stroke=\"black\" points=\"0,-310.5 86,-310.5 \"/>\n<text text-anchor=\"middle\" x=\"43\" y=\"-295.3\" font-family=\"Times New Roman,serif\" font-size=\"14.00\">data:&#45;3.0000</text>\n<polyline fill=\"none\" stroke=\"black\" points=\"0,-287.5 86,-287.5 \"/>\n<text text-anchor=\"middle\" x=\"43\" y=\"-272.3\" font-family=\"Times New Roman,serif\" font-size=\"14.00\">grad: 1.0000</text>\n</g>\n<!-- 2027466790800* -->\n<g id=\"node13\" class=\"node\">\n<title>2027466790800*</title>\n<ellipse fill=\"none\" stroke=\"black\" cx=\"149\" cy=\"-211\" rx=\"27\" ry=\"18\"/>\n<text text-anchor=\"middle\" x=\"149\" y=\"-207.3\" font-family=\"Times New Roman,serif\" font-size=\"14.00\">*</text>\n</g>\n<!-- 2027466790416&#45;&gt;2027466790800* -->\n<g id=\"edge14\" class=\"edge\">\n<title>2027466790416&#45;&gt;2027466790800*</title>\n<path fill=\"none\" stroke=\"black\" d=\"M84.81,-264.47C97.9,-253.39 111.99,-241.47 123.54,-231.7\"/>\n<polygon fill=\"black\" stroke=\"black\" points=\"126.07,-234.14 131.44,-225.01 121.55,-228.8 126.07,-234.14\"/>\n</g>\n<!-- 2027466792480 -->\n<g id=\"node4\" class=\"node\">\n<title>2027466792480</title>\n<polygon fill=\"none\" stroke=\"black\" points=\"0,-88.5 0,-157.5 86,-157.5 86,-88.5 0,-88.5\"/>\n<text text-anchor=\"middle\" x=\"43\" y=\"-142.3\" font-family=\"Times New Roman,serif\" font-size=\"14.00\">x2</text>\n<polyline fill=\"none\" stroke=\"black\" points=\"0,-134.5 86,-134.5 \"/>\n<text text-anchor=\"middle\" x=\"43\" y=\"-119.3\" font-family=\"Times New Roman,serif\" font-size=\"14.00\">data: 0.0000</text>\n<polyline fill=\"none\" stroke=\"black\" points=\"0,-111.5 86,-111.5 \"/>\n<text text-anchor=\"middle\" x=\"43\" y=\"-96.3\" font-family=\"Times New Roman,serif\" font-size=\"14.00\">grad: 0.5000</text>\n</g>\n<!-- 2027466792480&#45;&gt;2027466791424* -->\n<g id=\"edge12\" class=\"edge\">\n<title>2027466792480&#45;&gt;2027466791424*</title>\n<path fill=\"none\" stroke=\"black\" d=\"M86,-123C94.48,-123 103.34,-123 111.61,-123\"/>\n<polygon fill=\"black\" stroke=\"black\" points=\"111.7,-126.5 121.7,-123 111.7,-119.5 111.7,-126.5\"/>\n</g>\n<!-- 2027466346064 -->\n<g id=\"node5\" class=\"node\">\n<title>2027466346064</title>\n<polygon fill=\"none\" stroke=\"black\" points=\"642,-176.5 642,-245.5 728,-245.5 728,-176.5 642,-176.5\"/>\n<text text-anchor=\"middle\" x=\"685\" y=\"-230.3\" font-family=\"Times New Roman,serif\" font-size=\"14.00\">n</text>\n<polyline fill=\"none\" stroke=\"black\" points=\"642,-222.5 728,-222.5 \"/>\n<text text-anchor=\"middle\" x=\"685\" y=\"-207.3\" font-family=\"Times New Roman,serif\" font-size=\"14.00\">data: 0.8814</text>\n<polyline fill=\"none\" stroke=\"black\" points=\"642,-199.5 728,-199.5 \"/>\n<text text-anchor=\"middle\" x=\"685\" y=\"-184.3\" font-family=\"Times New Roman,serif\" font-size=\"14.00\">grad: 0.5000</text>\n</g>\n<!-- 2027466344816tanh -->\n<g id=\"node11\" class=\"node\">\n<title>2027466344816tanh</title>\n<ellipse fill=\"none\" stroke=\"black\" cx=\"791\" cy=\"-211\" rx=\"27\" ry=\"18\"/>\n<text text-anchor=\"middle\" x=\"791\" y=\"-207.3\" font-family=\"Times New Roman,serif\" font-size=\"14.00\">tanh</text>\n</g>\n<!-- 2027466346064&#45;&gt;2027466344816tanh -->\n<g id=\"edge8\" class=\"edge\">\n<title>2027466346064&#45;&gt;2027466344816tanh</title>\n<path fill=\"none\" stroke=\"black\" d=\"M728,-211C736.48,-211 745.34,-211 753.61,-211\"/>\n<polygon fill=\"black\" stroke=\"black\" points=\"753.7,-214.5 763.7,-211 753.7,-207.5 753.7,-214.5\"/>\n</g>\n<!-- 2027466346064+ -->\n<g id=\"node6\" class=\"node\">\n<title>2027466346064+</title>\n<ellipse fill=\"none\" stroke=\"black\" cx=\"579\" cy=\"-211\" rx=\"27\" ry=\"18\"/>\n<text text-anchor=\"middle\" x=\"579\" y=\"-207.3\" font-family=\"Times New Roman,serif\" font-size=\"14.00\">+</text>\n</g>\n<!-- 2027466346064+&#45;&gt;2027466346064 -->\n<g id=\"edge2\" class=\"edge\">\n<title>2027466346064+&#45;&gt;2027466346064</title>\n<path fill=\"none\" stroke=\"black\" d=\"M606.24,-211C614.11,-211 623.04,-211 631.96,-211\"/>\n<polygon fill=\"black\" stroke=\"black\" points=\"631.98,-214.5 641.98,-211 631.98,-207.5 631.98,-214.5\"/>\n</g>\n<!-- 2027466789024 -->\n<g id=\"node7\" class=\"node\">\n<title>2027466789024</title>\n<polygon fill=\"none\" stroke=\"black\" points=\"427,-220.5 427,-289.5 513,-289.5 513,-220.5 427,-220.5\"/>\n<text text-anchor=\"middle\" x=\"470\" y=\"-274.3\" font-family=\"Times New Roman,serif\" font-size=\"14.00\">b</text>\n<polyline fill=\"none\" stroke=\"black\" points=\"427,-266.5 513,-266.5 \"/>\n<text text-anchor=\"middle\" x=\"470\" y=\"-251.3\" font-family=\"Times New Roman,serif\" font-size=\"14.00\">data: 6.8814</text>\n<polyline fill=\"none\" stroke=\"black\" points=\"427,-243.5 513,-243.5 \"/>\n<text text-anchor=\"middle\" x=\"470\" y=\"-228.3\" font-family=\"Times New Roman,serif\" font-size=\"14.00\">grad: 0.5000</text>\n</g>\n<!-- 2027466789024&#45;&gt;2027466346064+ -->\n<g id=\"edge10\" class=\"edge\">\n<title>2027466789024&#45;&gt;2027466346064+</title>\n<path fill=\"none\" stroke=\"black\" d=\"M513.29,-237.61C524.27,-233.1 535.91,-228.31 546.24,-224.06\"/>\n<polygon fill=\"black\" stroke=\"black\" points=\"547.77,-227.22 555.68,-220.18 545.1,-220.74 547.77,-227.22\"/>\n</g>\n<!-- 2027466790608 -->\n<g id=\"node8\" class=\"node\">\n<title>2027466790608</title>\n<polygon fill=\"none\" stroke=\"black\" points=\"0,-176.5 0,-245.5 86,-245.5 86,-176.5 0,-176.5\"/>\n<text text-anchor=\"middle\" x=\"43\" y=\"-230.3\" font-family=\"Times New Roman,serif\" font-size=\"14.00\">x1</text>\n<polyline fill=\"none\" stroke=\"black\" points=\"0,-222.5 86,-222.5 \"/>\n<text text-anchor=\"middle\" x=\"43\" y=\"-207.3\" font-family=\"Times New Roman,serif\" font-size=\"14.00\">data: 2.0000</text>\n<polyline fill=\"none\" stroke=\"black\" points=\"0,-199.5 86,-199.5 \"/>\n<text text-anchor=\"middle\" x=\"43\" y=\"-184.3\" font-family=\"Times New Roman,serif\" font-size=\"14.00\">grad:&#45;1.5000</text>\n</g>\n<!-- 2027466790608&#45;&gt;2027466790800* -->\n<g id=\"edge13\" class=\"edge\">\n<title>2027466790608&#45;&gt;2027466790800*</title>\n<path fill=\"none\" stroke=\"black\" d=\"M86,-211C94.48,-211 103.34,-211 111.61,-211\"/>\n<polygon fill=\"black\" stroke=\"black\" points=\"111.7,-214.5 121.7,-211 111.7,-207.5 111.7,-214.5\"/>\n</g>\n<!-- 2027466790176 -->\n<g id=\"node9\" class=\"node\">\n<title>2027466790176</title>\n<polygon fill=\"none\" stroke=\"black\" points=\"0,-0.5 0,-69.5 86,-69.5 86,-0.5 0,-0.5\"/>\n<text text-anchor=\"middle\" x=\"43\" y=\"-54.3\" font-family=\"Times New Roman,serif\" font-size=\"14.00\">w2</text>\n<polyline fill=\"none\" stroke=\"black\" points=\"0,-46.5 86,-46.5 \"/>\n<text text-anchor=\"middle\" x=\"43\" y=\"-31.3\" font-family=\"Times New Roman,serif\" font-size=\"14.00\">data: 1.0000</text>\n<polyline fill=\"none\" stroke=\"black\" points=\"0,-23.5 86,-23.5 \"/>\n<text text-anchor=\"middle\" x=\"43\" y=\"-8.3\" font-family=\"Times New Roman,serif\" font-size=\"14.00\">grad: 0.0000</text>\n</g>\n<!-- 2027466790176&#45;&gt;2027466791424* -->\n<g id=\"edge6\" class=\"edge\">\n<title>2027466790176&#45;&gt;2027466791424*</title>\n<path fill=\"none\" stroke=\"black\" d=\"M84.81,-69.53C97.9,-80.61 111.99,-92.53 123.54,-102.3\"/>\n<polygon fill=\"black\" stroke=\"black\" points=\"121.55,-105.2 131.44,-108.99 126.07,-99.86 121.55,-105.2\"/>\n</g>\n<!-- 2027466344816 -->\n<g id=\"node10\" class=\"node\">\n<title>2027466344816</title>\n<polygon fill=\"none\" stroke=\"black\" points=\"854,-176.5 854,-245.5 940,-245.5 940,-176.5 854,-176.5\"/>\n<text text-anchor=\"middle\" x=\"897\" y=\"-230.3\" font-family=\"Times New Roman,serif\" font-size=\"14.00\">o</text>\n<polyline fill=\"none\" stroke=\"black\" points=\"854,-222.5 940,-222.5 \"/>\n<text text-anchor=\"middle\" x=\"897\" y=\"-207.3\" font-family=\"Times New Roman,serif\" font-size=\"14.00\">data: 0.7071</text>\n<polyline fill=\"none\" stroke=\"black\" points=\"854,-199.5 940,-199.5 \"/>\n<text text-anchor=\"middle\" x=\"897\" y=\"-184.3\" font-family=\"Times New Roman,serif\" font-size=\"14.00\">grad: 1.0000</text>\n</g>\n<!-- 2027466344816tanh&#45;&gt;2027466344816 -->\n<g id=\"edge3\" class=\"edge\">\n<title>2027466344816tanh&#45;&gt;2027466344816</title>\n<path fill=\"none\" stroke=\"black\" d=\"M818.24,-211C826.11,-211 835.04,-211 843.96,-211\"/>\n<polygon fill=\"black\" stroke=\"black\" points=\"843.98,-214.5 853.98,-211 843.98,-207.5 843.98,-214.5\"/>\n</g>\n<!-- 2027466790800 -->\n<g id=\"node12\" class=\"node\">\n<title>2027466790800</title>\n<polygon fill=\"none\" stroke=\"black\" points=\"212,-176.5 212,-245.5 298,-245.5 298,-176.5 212,-176.5\"/>\n<text text-anchor=\"middle\" x=\"255\" y=\"-230.3\" font-family=\"Times New Roman,serif\" font-size=\"14.00\">x1*w1</text>\n<polyline fill=\"none\" stroke=\"black\" points=\"212,-222.5 298,-222.5 \"/>\n<text text-anchor=\"middle\" x=\"255\" y=\"-207.3\" font-family=\"Times New Roman,serif\" font-size=\"14.00\">data:&#45;6.0000</text>\n<polyline fill=\"none\" stroke=\"black\" points=\"212,-199.5 298,-199.5 \"/>\n<text text-anchor=\"middle\" x=\"255\" y=\"-184.3\" font-family=\"Times New Roman,serif\" font-size=\"14.00\">grad: 0.5000</text>\n</g>\n<!-- 2027466790800&#45;&gt;2027466791376+ -->\n<g id=\"edge9\" class=\"edge\">\n<title>2027466790800&#45;&gt;2027466791376+</title>\n<path fill=\"none\" stroke=\"black\" d=\"M298,-193.23C308.13,-188.95 318.78,-184.44 328.34,-180.39\"/>\n<polygon fill=\"black\" stroke=\"black\" points=\"330,-183.49 337.84,-176.37 327.27,-177.05 330,-183.49\"/>\n</g>\n<!-- 2027466790800*&#45;&gt;2027466790800 -->\n<g id=\"edge4\" class=\"edge\">\n<title>2027466790800*&#45;&gt;2027466790800</title>\n<path fill=\"none\" stroke=\"black\" d=\"M176.24,-211C184.11,-211 193.04,-211 201.96,-211\"/>\n<polygon fill=\"black\" stroke=\"black\" points=\"201.98,-214.5 211.98,-211 201.98,-207.5 201.98,-214.5\"/>\n</g>\n<!-- 2027466791376 -->\n<g id=\"node14\" class=\"node\">\n<title>2027466791376</title>\n<polygon fill=\"none\" stroke=\"black\" points=\"424,-132.5 424,-201.5 516,-201.5 516,-132.5 424,-132.5\"/>\n<text text-anchor=\"middle\" x=\"470\" y=\"-186.3\" font-family=\"Times New Roman,serif\" font-size=\"14.00\">x1w1 + x2w2</text>\n<polyline fill=\"none\" stroke=\"black\" points=\"424,-178.5 516,-178.5 \"/>\n<text text-anchor=\"middle\" x=\"470\" y=\"-163.3\" font-family=\"Times New Roman,serif\" font-size=\"14.00\">data:&#45;6.0000</text>\n<polyline fill=\"none\" stroke=\"black\" points=\"424,-155.5 516,-155.5 \"/>\n<text text-anchor=\"middle\" x=\"470\" y=\"-140.3\" font-family=\"Times New Roman,serif\" font-size=\"14.00\">grad: 0.5000</text>\n</g>\n<!-- 2027466791376&#45;&gt;2027466346064+ -->\n<g id=\"edge11\" class=\"edge\">\n<title>2027466791376&#45;&gt;2027466346064+</title>\n<path fill=\"none\" stroke=\"black\" d=\"M516.07,-185.53C526.24,-189.72 536.83,-194.07 546.32,-197.97\"/>\n<polygon fill=\"black\" stroke=\"black\" points=\"545.16,-201.28 555.74,-201.85 547.82,-194.81 545.16,-201.28\"/>\n</g>\n<!-- 2027466791376+&#45;&gt;2027466791376 -->\n<g id=\"edge5\" class=\"edge\">\n<title>2027466791376+&#45;&gt;2027466791376</title>\n<path fill=\"none\" stroke=\"black\" d=\"M388.18,-167C396,-167 404.88,-167 413.83,-167\"/>\n<polygon fill=\"black\" stroke=\"black\" points=\"413.91,-170.5 423.91,-167 413.91,-163.5 413.91,-170.5\"/>\n</g>\n</g>\n</svg>\n",
            "text/plain": [
              "<graphviz.graphs.Digraph at 0x1d80e701310>"
            ]
          },
          "execution_count": 15,
          "metadata": {},
          "output_type": "execute_result"
        }
      ],
      "source": [
        "# inputs x1, x2\n",
        "x1 = Value(2.0, label='x1')\n",
        "x2 = Value(0.0, label='x2')\n",
        "# weights w1, w2\n",
        "w1 = Value(-3.0, label='w1')\n",
        "w2 = Value(1.0, label='w2')\n",
        "# bias of the neuron\n",
        "b = Value(6.8813735870195432, label='b')\n",
        "# x1*w1 + x2*w2 + b\n",
        "x1w1 = x1*w1; x1w1.label='x1*w1'\n",
        "x2w2 = x2*w2; x2w2.label='x2*w2'\n",
        "x1w1x2w2 = x1w1 + x2w2; x1w1x2w2.label = 'x1w1 + x2w2'\n",
        "n = x1w1x2w2 + b; n.label = 'n'\n",
        "o = n.tanh(); o.label='o'\n",
        "o.backward()\n",
        "draw_dot(o)\n",
        "\n"
      ]
    },
    {
      "cell_type": "markdown",
      "metadata": {
        "id": "jFsxlpV59GOx"
      },
      "source": [
        "#### Building out Neural Network Module"
      ]
    },
    {
      "cell_type": "code",
      "execution_count": 16,
      "metadata": {
        "id": "Tu--U151iKVN"
      },
      "outputs": [],
      "source": [
        "class Neuron:\n",
        "  def __init__(self, num_of_inputs):\n",
        "      self.w = [Value(random.uniform(-1,1)) for _ in range(num_of_inputs)]\n",
        "      self.b = Value(random.uniform(-1,1))\n",
        "\n",
        "  def __call__(self, x) -> Value:\n",
        "    act = sum((xi*wi for xi, wi in zip(x, self.w)), self.b)\n",
        "    out = act.tanh()\n",
        "    return out\n",
        "\n",
        "  def parameters(self):\n",
        "    return self.w + [self.b]\n",
        "\n",
        "  def __repr__(self) -> str:\n",
        "    out = self.__call__(x)\n",
        "    return f\"Value(data={out.data})\"\n",
        "\n",
        "class Layer:\n",
        "  def __init__(self, num_of_inputs, num_of_outputs):\n",
        "      self.neurons = [Neuron(num_of_inputs) for _ in range(num_of_outputs)]\n",
        "\n",
        "  def __call__(self, x):\n",
        "      outs = [n(x) for n in self.neurons]\n",
        "      return outs[0] if len(outs) == 1 else outs\n",
        "\n",
        "  def parameters(self):\n",
        "    return [p for neuron in self.neurons for p in neuron.parameters()]\n",
        "\n",
        "class MLP:\n",
        "  def __init__(self, num_of_inputs, list_of_outputs):\n",
        "    sz = [num_of_inputs] + list_of_outputs\n",
        "    self.layers = [Layer(sz[i], sz[i+1]) for i in range(len(list_of_outputs))]\n",
        "\n",
        "  def __call__(self, x):\n",
        "    for layer in self.layers:\n",
        "      x = layer(x)\n",
        "    return x\n",
        "\n",
        "  def parameters(self):\n",
        "    return [p for layer in self.layers for p in layer.parameters()]"
      ]
    },
    {
      "cell_type": "code",
      "execution_count": 17,
      "metadata": {
        "id": "JvcoDkvvHSO_"
      },
      "outputs": [],
      "source": [
        "xs = [\n",
        "    [2.0, 3.0, -1.0],\n",
        "    [3.0, -1.0, 0.5],\n",
        "    [0.5, 1.0, 1.0],\n",
        "    [1.0, 1.0, -1.0],\n",
        "]\n",
        "ys = [1.0, -1.0, -1.0, 1.0] # desired targets"
      ]
    },
    {
      "cell_type": "code",
      "execution_count": 18,
      "metadata": {
        "colab": {
          "base_uri": "https://localhost:8080/"
        },
        "id": "YbY44udUkYPz",
        "outputId": "88375512-607b-4809-ae7d-09ad050f9acb"
      },
      "outputs": [
        {
          "name": "stdout",
          "output_type": "stream",
          "text": [
            "Actual Output: [1.0, -1.0, -1.0, 1.0]\n",
            "Predicted Output: [Value(data=0.9899171200187833, label=), Value(data=-0.9886567073090763, label=), Value(data=-0.9850515116396992, label=), Value(data=0.9906082627819109, label=)]\n",
            "Loss: Value(data=0.0005419967900192724, label=)\n"
          ]
        }
      ],
      "source": [
        "n = MLP(3, [4,4,1])\n",
        "for k in range(1000):\n",
        "  # feed forward\n",
        "  y_pred = [n(x) for x in xs]\n",
        "  loss = sum((yout - ygt)**2 for (yout, ygt) in zip(y_pred, ys))\n",
        "\n",
        "  # Back propagation\n",
        "  for p in n.parameters():\n",
        "    p.grad = 0\n",
        "  loss.backward()\n",
        "\n",
        "  #Gradient descent\n",
        "  for p in n.parameters():\n",
        "    p.data += -0.05*p.grad\n",
        "\n",
        "print(f'Actual Output: {ys}')\n",
        "print(f'Predicted Output: {y_pred}')\n",
        "print(f'Loss: {loss}')"
      ]
    },
    {
      "cell_type": "markdown",
      "metadata": {
        "id": "pnn265oz_7Fj"
      },
      "source": [
        "#### Doing the Same with pytorch"
      ]
    },
    {
      "cell_type": "code",
      "execution_count": null,
      "metadata": {
        "colab": {
          "base_uri": "https://localhost:8080/"
        },
        "id": "MykWCW2eiOuR",
        "outputId": "b7f6b768-f183-4a3b-b17e-8dae92b37f14"
      },
      "outputs": [],
      "source": [
        "x1 = torch.Tensor([2.0]).double()               ; x1.requires_grad = True\n",
        "x2 = torch.Tensor([0.0]).double()               ; x2.requires_grad = True\n",
        "w1 = torch.Tensor([-3.0]).double()              ; w1.requires_grad = True\n",
        "w2 = torch.Tensor([1.0]).double()               ; w2.requires_grad = True\n",
        "b = torch.Tensor([6.8813735870195432]).double() ; b.requires_grad = True\n",
        "n = x1*w1 + x2*w2 + b\n",
        "o = torch.tanh(n)\n",
        "\n",
        "print(o.item())\n",
        "o.backward()\n",
        "\n",
        "print('-------')\n",
        "print('x1', x1.grad.item())\n",
        "print('w1', w1.grad.item())\n",
        "print('x2', x2.grad.item())\n",
        "print('w2', w2.grad.item())"
      ]
    },
    {
      "cell_type": "markdown",
      "metadata": {
        "id": "njeYwob2ZM4e"
      },
      "source": [
        "###### credits: https://www.youtube.com/watch?v=VMj-3S1tku0&t=1741s"
      ]
    }
  ],
  "metadata": {
    "colab": {
      "provenance": []
    },
    "kernelspec": {
      "display_name": "Python 3.9.2 64-bit",
      "language": "python",
      "name": "python3"
    },
    "language_info": {
      "codemirror_mode": {
        "name": "ipython",
        "version": 3
      },
      "file_extension": ".py",
      "mimetype": "text/x-python",
      "name": "python",
      "nbconvert_exporter": "python",
      "pygments_lexer": "ipython3",
      "version": "3.9.2"
    },
    "vscode": {
      "interpreter": {
        "hash": "f6f705f2978c9240c3db0316866e15abf7967f947e1c0ce4644e18b5928d76c0"
      }
    }
  },
  "nbformat": 4,
  "nbformat_minor": 0
}
