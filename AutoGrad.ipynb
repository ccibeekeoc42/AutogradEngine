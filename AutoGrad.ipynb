{
  "nbformat": 4,
  "nbformat_minor": 0,
  "metadata": {
    "colab": {
      "provenance": []
    },
    "kernelspec": {
      "name": "python3",
      "display_name": "Python 3"
    },
    "language_info": {
      "name": "python"
    }
  },
  "cells": [
    {
      "cell_type": "markdown",
      "source": [
        "#### Necessary Imports & Installs"
      ],
      "metadata": {
        "id": "1jBQtWJWA1Uk"
      }
    },
    {
      "cell_type": "code",
      "source": [
        "#!pip install graphviz\n",
        "#!pip install torch"
      ],
      "metadata": {
        "id": "m01wG9CCgXWJ"
      },
      "execution_count": 11,
      "outputs": []
    },
    {
      "cell_type": "code",
      "execution_count": 12,
      "metadata": {
        "id": "2KHe8gQTyCrG"
      },
      "outputs": [],
      "source": [
        "import math\n",
        "import numpy as np\n",
        "import matplotlib.pyplot as plt\n",
        "%matplotlib inline\n",
        "import torch\n",
        "import random"
      ]
    },
    {
      "cell_type": "markdown",
      "source": [
        "#### Building Value Data Structure for the AutoGrad Engine"
      ],
      "metadata": {
        "id": "JafFqI63A5Q-"
      }
    },
    {
      "cell_type": "code",
      "source": [
        "class Value:\n",
        "    def __init__(self, data, _children=(), _op='', label=''):\n",
        "        self.data = data\n",
        "        self.grad = 0.0\n",
        "        self._backward = lambda: None\n",
        "        self._prev = set(_children)\n",
        "        self._op = _op\n",
        "        self.label = label\n",
        "    \n",
        "    def __add__(self, other):\n",
        "        other = other if isinstance(other, Value) else Value(other)\n",
        "        out = Value(self.data + other.data, (self, other), '+')\n",
        "        def _backward():\n",
        "            self.grad += 1.0 * out.grad\n",
        "            other.grad += 1.0 * out.grad\n",
        "        out._backward = _backward\n",
        "        return out\n",
        "    \n",
        "    def __radd__(self, other):\n",
        "        return self + other \n",
        "    \n",
        "    def __neg__(self):\n",
        "        return self * -1\n",
        "    \n",
        "    def __sub__(self, other):\n",
        "        return self + (-other)\n",
        "    \n",
        "    def __mul__(self, other):\n",
        "        other = other if isinstance(other, Value) else Value(other)\n",
        "        out = Value(self.data * other.data, (self, other), '*')\n",
        "        def _backward():\n",
        "            self.grad += other.data * out.grad\n",
        "            other.grad += self.data * out.grad\n",
        "        out._backward = _backward\n",
        "        return out\n",
        "    \n",
        "    def __rmul__(self, other):\n",
        "        return self * other\n",
        "    \n",
        "    def __pow__(self, other):\n",
        "        assert isinstance(other, (int, float))\n",
        "        out = Value(self.data**other, (self, ), f'**{other}')\n",
        "        \n",
        "        def _backward():\n",
        "            self.grad += other * (self.data ** (other - 1)) * out.grad\n",
        "        out._backward = _backward\n",
        "        \n",
        "        return out\n",
        "    \n",
        "    def __truediv__(self, other):\n",
        "        return self * other**-1\n",
        "    \n",
        "    def tanh(self):\n",
        "        x = self.data\n",
        "        t = (math.exp(2*x) - 1) / (math.exp(2*x) + 1) \n",
        "        out = Value(t, (self, ), 'tanh')\n",
        "        \n",
        "        def _backward():\n",
        "            self.grad += (1 - t**2) * out.grad\n",
        "        out._backward = _backward\n",
        "    \n",
        "        return out\n",
        "\n",
        "    def sigmoid(self):\n",
        "        x = self.data\n",
        "        t = 1 / (1 + math.exp(-x)) \n",
        "        out = Value(t, (self, ), 'sigmoid')\n",
        "        \n",
        "        def _backward():\n",
        "            self.grad += t * (1 - t) * out.grad\n",
        "        out._backward = _backward\n",
        "    \n",
        "        return out\n",
        "    \n",
        "    def exp(self):\n",
        "        x = self.data\n",
        "        out = Value(math.exp(x), (self, ), 'exp')\n",
        "        \n",
        "        def _backward():\n",
        "            self.grad += out.data * out.grad\n",
        "        out._backward = _backward\n",
        "    \n",
        "        return out\n",
        "    \n",
        "    def backward(self):\n",
        "        topo = []\n",
        "        visited = set()\n",
        "        def build_topo(v):\n",
        "            if v not in visited:\n",
        "                visited.add(v)\n",
        "                for child in v._prev:\n",
        "                    build_topo(child)\n",
        "                topo.append(v)\n",
        "        build_topo(self)\n",
        "        \n",
        "        self.grad = 1.0\n",
        "        for node in reversed(topo):\n",
        "            node._backward()\n",
        "    \n",
        "    def __repr__(self):\n",
        "      \"\"\"How the 'print' function displays our object\"\"\"\n",
        "      return f\"Value(data={self.data}, label={self.label})\""
      ],
      "metadata": {
        "id": "Hl9f-sIEkp3w"
      },
      "execution_count": 13,
      "outputs": []
    },
    {
      "cell_type": "markdown",
      "source": [
        "#### Visualizing our entire $NN$ expression"
      ],
      "metadata": {
        "id": "DQplmIaXmECC"
      }
    },
    {
      "cell_type": "code",
      "source": [
        "from graphviz import Digraph\n",
        "\n",
        "def trace(root):\n",
        "    '''Builds a set of all nodes and edges in a graph'''\n",
        "    nodes, edges = set(), set()\n",
        "    def build(v):\n",
        "        if v not in nodes:\n",
        "            nodes.add(v)\n",
        "            for child in v._prev:\n",
        "                edges.add((child, v))\n",
        "                build(child)\n",
        "    build(root)\n",
        "    return nodes, edges\n",
        "\n",
        "def draw_dot(root):\n",
        "    dot = Digraph(format='svg', graph_attr={'rankdir': 'LR'}) #LR = left to right\n",
        "    nodes, edges = trace(root)\n",
        "    for n in nodes:\n",
        "        uid = str(id(n))\n",
        "        # creating a rectangular 'record' node for every value in the graph\n",
        "        dot.node(name=uid, label=f\"{n.label}|data:{n.data: .4f}|grad:{n.grad: .4f}\", shape='record')\n",
        "        if n._op:\n",
        "            #if the value is resulting from some operation, (not a leaf node)\n",
        "            dot.node(name=uid+n._op, label = n._op)\n",
        "            dot.edge(uid+n._op,uid) #connect this op node to the resulting node\n",
        "    for n1, n2 in edges:\n",
        "        dot.edge(str(id(n1)),str(id(n2))+n2._op)\n",
        "    return dot"
      ],
      "metadata": {
        "id": "cS3KDFfOktQO"
      },
      "execution_count": 14,
      "outputs": []
    },
    {
      "cell_type": "markdown",
      "source": [
        "#### Example of a single neuron"
      ],
      "metadata": {
        "id": "MLNG8TqjH-Ie"
      }
    },
    {
      "cell_type": "code",
      "source": [
        "# inputs x1, x2\n",
        "x1 = Value(2.0, label='x1')\n",
        "x2 = Value(0.0, label='x2')\n",
        "# weights w1, w2\n",
        "w1 = Value(-3.0, label='w1')\n",
        "w2 = Value(1.0, label='w2')\n",
        "# bias of the neuron\n",
        "b = Value(6.8813735870195432, label='b')\n",
        "# x1*w1 + x2*w2 + b\n",
        "x1w1 = x1*w1; x1w1.label='x1*w1'\n",
        "x2w2 = x2*w2; x2w2.label='x2*w2'\n",
        "x1w1x2w2 = x1w1 + x2w2; x1w1x2w2.label = 'x1w1 + x2w2'\n",
        "n = x1w1x2w2 + b; n.label = 'n'\n",
        "o = n.tanh(); o.label='o'\n",
        "o.backward()\n",
        "draw_dot(o)\n",
        "\n",
        "draw_dot(o)"
      ],
      "metadata": {
        "colab": {
          "base_uri": "https://localhost:8080/",
          "height": 498
        },
        "id": "nBJBLTaIh8Hp",
        "outputId": "dd9ef97e-8ea9-479a-9046-277e837a0e3c"
      },
      "execution_count": 15,
      "outputs": [
        {
          "output_type": "execute_result",
          "data": {
            "text/plain": [
              "<graphviz.dot.Digraph at 0x7f2cc4ba5bd0>"
            ],
            "image/svg+xml": "<?xml version=\"1.0\" encoding=\"UTF-8\" standalone=\"no\"?>\n<!DOCTYPE svg PUBLIC \"-//W3C//DTD SVG 1.1//EN\"\n \"http://www.w3.org/Graphics/SVG/1.1/DTD/svg11.dtd\">\n<!-- Generated by graphviz version 2.40.1 (20161225.0304)\n -->\n<!-- Title: %3 Pages: 1 -->\n<svg width=\"975pt\" height=\"342pt\"\n viewBox=\"0.00 0.00 975.00 342.00\" xmlns=\"http://www.w3.org/2000/svg\" xmlns:xlink=\"http://www.w3.org/1999/xlink\">\n<g id=\"graph0\" class=\"graph\" transform=\"scale(1 1) rotate(0) translate(4 338)\">\n<title>%3</title>\n<polygon fill=\"#ffffff\" stroke=\"transparent\" points=\"-4,4 -4,-338 971,-338 971,4 -4,4\"/>\n<!-- 139830255834128 -->\n<g id=\"node1\" class=\"node\">\n<title>139830255834128</title>\n<polygon fill=\"none\" stroke=\"#000000\" points=\"876,-176.5 876,-245.5 967,-245.5 967,-176.5 876,-176.5\"/>\n<text text-anchor=\"middle\" x=\"921.5\" y=\"-230.3\" font-family=\"Times,serif\" font-size=\"14.00\" fill=\"#000000\">o</text>\n<polyline fill=\"none\" stroke=\"#000000\" points=\"876,-222.5 967,-222.5 \"/>\n<text text-anchor=\"middle\" x=\"921.5\" y=\"-207.3\" font-family=\"Times,serif\" font-size=\"14.00\" fill=\"#000000\">data: 0.7071</text>\n<polyline fill=\"none\" stroke=\"#000000\" points=\"876,-199.5 967,-199.5 \"/>\n<text text-anchor=\"middle\" x=\"921.5\" y=\"-184.3\" font-family=\"Times,serif\" font-size=\"14.00\" fill=\"#000000\">grad: 1.0000</text>\n</g>\n<!-- 139830255834128tanh -->\n<g id=\"node2\" class=\"node\">\n<title>139830255834128tanh</title>\n<ellipse fill=\"none\" stroke=\"#000000\" cx=\"813\" cy=\"-211\" rx=\"27\" ry=\"18\"/>\n<text text-anchor=\"middle\" x=\"813\" y=\"-207.3\" font-family=\"Times,serif\" font-size=\"14.00\" fill=\"#000000\">tanh</text>\n</g>\n<!-- 139830255834128tanh&#45;&gt;139830255834128 -->\n<g id=\"edge1\" class=\"edge\">\n<title>139830255834128tanh&#45;&gt;139830255834128</title>\n<path fill=\"none\" stroke=\"#000000\" d=\"M840.0992,-211C847.9432,-211 856.8075,-211 865.7268,-211\"/>\n<polygon fill=\"#000000\" stroke=\"#000000\" points=\"865.7688,-214.5001 875.7688,-211 865.7687,-207.5001 865.7688,-214.5001\"/>\n</g>\n<!-- 139830255835664 -->\n<g id=\"node3\" class=\"node\">\n<title>139830255835664</title>\n<polygon fill=\"none\" stroke=\"#000000\" points=\"659,-176.5 659,-245.5 750,-245.5 750,-176.5 659,-176.5\"/>\n<text text-anchor=\"middle\" x=\"704.5\" y=\"-230.3\" font-family=\"Times,serif\" font-size=\"14.00\" fill=\"#000000\">n</text>\n<polyline fill=\"none\" stroke=\"#000000\" points=\"659,-222.5 750,-222.5 \"/>\n<text text-anchor=\"middle\" x=\"704.5\" y=\"-207.3\" font-family=\"Times,serif\" font-size=\"14.00\" fill=\"#000000\">data: 0.8814</text>\n<polyline fill=\"none\" stroke=\"#000000\" points=\"659,-199.5 750,-199.5 \"/>\n<text text-anchor=\"middle\" x=\"704.5\" y=\"-184.3\" font-family=\"Times,serif\" font-size=\"14.00\" fill=\"#000000\">grad: 0.5000</text>\n</g>\n<!-- 139830255835664&#45;&gt;139830255834128tanh -->\n<g id=\"edge14\" class=\"edge\">\n<title>139830255835664&#45;&gt;139830255834128tanh</title>\n<path fill=\"none\" stroke=\"#000000\" d=\"M750.1993,-211C758.7508,-211 767.593,-211 775.8471,-211\"/>\n<polygon fill=\"#000000\" stroke=\"#000000\" points=\"775.9215,-214.5001 785.9215,-211 775.9215,-207.5001 775.9215,-214.5001\"/>\n</g>\n<!-- 139830255835664+ -->\n<g id=\"node4\" class=\"node\">\n<title>139830255835664+</title>\n<ellipse fill=\"none\" stroke=\"#000000\" cx=\"596\" cy=\"-211\" rx=\"27\" ry=\"18\"/>\n<text text-anchor=\"middle\" x=\"596\" y=\"-207.3\" font-family=\"Times,serif\" font-size=\"14.00\" fill=\"#000000\">+</text>\n</g>\n<!-- 139830255835664+&#45;&gt;139830255835664 -->\n<g id=\"edge2\" class=\"edge\">\n<title>139830255835664+&#45;&gt;139830255835664</title>\n<path fill=\"none\" stroke=\"#000000\" d=\"M623.0992,-211C630.9432,-211 639.8075,-211 648.7268,-211\"/>\n<polygon fill=\"#000000\" stroke=\"#000000\" points=\"648.7688,-214.5001 658.7688,-211 648.7687,-207.5001 648.7688,-214.5001\"/>\n</g>\n<!-- 139830255836688 -->\n<g id=\"node5\" class=\"node\">\n<title>139830255836688</title>\n<polygon fill=\"none\" stroke=\"#000000\" points=\"218,-176.5 218,-245.5 309,-245.5 309,-176.5 218,-176.5\"/>\n<text text-anchor=\"middle\" x=\"263.5\" y=\"-230.3\" font-family=\"Times,serif\" font-size=\"14.00\" fill=\"#000000\">x1*w1</text>\n<polyline fill=\"none\" stroke=\"#000000\" points=\"218,-222.5 309,-222.5 \"/>\n<text text-anchor=\"middle\" x=\"263.5\" y=\"-207.3\" font-family=\"Times,serif\" font-size=\"14.00\" fill=\"#000000\">data:&#45;6.0000</text>\n<polyline fill=\"none\" stroke=\"#000000\" points=\"218,-199.5 309,-199.5 \"/>\n<text text-anchor=\"middle\" x=\"263.5\" y=\"-184.3\" font-family=\"Times,serif\" font-size=\"14.00\" fill=\"#000000\">grad: 0.5000</text>\n</g>\n<!-- 139830255835344+ -->\n<g id=\"node13\" class=\"node\">\n<title>139830255835344+</title>\n<ellipse fill=\"none\" stroke=\"#000000\" cx=\"372\" cy=\"-167\" rx=\"27\" ry=\"18\"/>\n<text text-anchor=\"middle\" x=\"372\" y=\"-163.3\" font-family=\"Times,serif\" font-size=\"14.00\" fill=\"#000000\">+</text>\n</g>\n<!-- 139830255836688&#45;&gt;139830255835344+ -->\n<g id=\"edge11\" class=\"edge\">\n<title>139830255836688&#45;&gt;139830255835344+</title>\n<path fill=\"none\" stroke=\"#000000\" d=\"M309.1993,-192.4676C319.3434,-188.3538 329.8967,-184.0742 339.392,-180.2235\"/>\n<polygon fill=\"#000000\" stroke=\"#000000\" points=\"340.8909,-183.3926 348.8426,-176.391 338.2602,-176.9057 340.8909,-183.3926\"/>\n</g>\n<!-- 139830255836688* -->\n<g id=\"node6\" class=\"node\">\n<title>139830255836688*</title>\n<ellipse fill=\"none\" stroke=\"#000000\" cx=\"155\" cy=\"-211\" rx=\"27\" ry=\"18\"/>\n<text text-anchor=\"middle\" x=\"155\" y=\"-207.3\" font-family=\"Times,serif\" font-size=\"14.00\" fill=\"#000000\">*</text>\n</g>\n<!-- 139830255836688*&#45;&gt;139830255836688 -->\n<g id=\"edge3\" class=\"edge\">\n<title>139830255836688*&#45;&gt;139830255836688</title>\n<path fill=\"none\" stroke=\"#000000\" d=\"M182.0992,-211C189.9432,-211 198.8075,-211 207.7268,-211\"/>\n<polygon fill=\"#000000\" stroke=\"#000000\" points=\"207.7688,-214.5001 217.7688,-211 207.7687,-207.5001 207.7688,-214.5001\"/>\n</g>\n<!-- 139830255835216 -->\n<g id=\"node7\" class=\"node\">\n<title>139830255835216</title>\n<polygon fill=\"none\" stroke=\"#000000\" points=\"0,-264.5 0,-333.5 92,-333.5 92,-264.5 0,-264.5\"/>\n<text text-anchor=\"middle\" x=\"46\" y=\"-318.3\" font-family=\"Times,serif\" font-size=\"14.00\" fill=\"#000000\">x1</text>\n<polyline fill=\"none\" stroke=\"#000000\" points=\"0,-310.5 92,-310.5 \"/>\n<text text-anchor=\"middle\" x=\"46\" y=\"-295.3\" font-family=\"Times,serif\" font-size=\"14.00\" fill=\"#000000\">data: 2.0000</text>\n<polyline fill=\"none\" stroke=\"#000000\" points=\"0,-287.5 92,-287.5 \"/>\n<text text-anchor=\"middle\" x=\"46\" y=\"-272.3\" font-family=\"Times,serif\" font-size=\"14.00\" fill=\"#000000\">grad:&#45;1.5000</text>\n</g>\n<!-- 139830255835216&#45;&gt;139830255836688* -->\n<g id=\"edge13\" class=\"edge\">\n<title>139830255835216&#45;&gt;139830255836688*</title>\n<path fill=\"none\" stroke=\"#000000\" d=\"M88.7668,-264.4726C102.6263,-253.2834 117.5484,-241.2361 129.7138,-231.4145\"/>\n<polygon fill=\"#000000\" stroke=\"#000000\" points=\"132.0665,-234.0135 137.6486,-225.0085 127.6692,-228.5669 132.0665,-234.0135\"/>\n</g>\n<!-- 139830255833680 -->\n<g id=\"node8\" class=\"node\">\n<title>139830255833680</title>\n<polygon fill=\"none\" stroke=\"#000000\" points=\".5,-88.5 .5,-157.5 91.5,-157.5 91.5,-88.5 .5,-88.5\"/>\n<text text-anchor=\"middle\" x=\"46\" y=\"-142.3\" font-family=\"Times,serif\" font-size=\"14.00\" fill=\"#000000\">x2</text>\n<polyline fill=\"none\" stroke=\"#000000\" points=\".5,-134.5 91.5,-134.5 \"/>\n<text text-anchor=\"middle\" x=\"46\" y=\"-119.3\" font-family=\"Times,serif\" font-size=\"14.00\" fill=\"#000000\">data: 0.0000</text>\n<polyline fill=\"none\" stroke=\"#000000\" points=\".5,-111.5 91.5,-111.5 \"/>\n<text text-anchor=\"middle\" x=\"46\" y=\"-96.3\" font-family=\"Times,serif\" font-size=\"14.00\" fill=\"#000000\">grad: 0.5000</text>\n</g>\n<!-- 139830255833232* -->\n<g id=\"node10\" class=\"node\">\n<title>139830255833232*</title>\n<ellipse fill=\"none\" stroke=\"#000000\" cx=\"155\" cy=\"-123\" rx=\"27\" ry=\"18\"/>\n<text text-anchor=\"middle\" x=\"155\" y=\"-119.3\" font-family=\"Times,serif\" font-size=\"14.00\" fill=\"#000000\">*</text>\n</g>\n<!-- 139830255833680&#45;&gt;139830255833232* -->\n<g id=\"edge9\" class=\"edge\">\n<title>139830255833680&#45;&gt;139830255833232*</title>\n<path fill=\"none\" stroke=\"#000000\" d=\"M91.5942,-123C100.2902,-123 109.297,-123 117.6967,-123\"/>\n<polygon fill=\"#000000\" stroke=\"#000000\" points=\"117.9424,-126.5001 127.9424,-123 117.9424,-119.5001 117.9424,-126.5001\"/>\n</g>\n<!-- 139830255833232 -->\n<g id=\"node9\" class=\"node\">\n<title>139830255833232</title>\n<polygon fill=\"none\" stroke=\"#000000\" points=\"218,-88.5 218,-157.5 309,-157.5 309,-88.5 218,-88.5\"/>\n<text text-anchor=\"middle\" x=\"263.5\" y=\"-142.3\" font-family=\"Times,serif\" font-size=\"14.00\" fill=\"#000000\">x2*w2</text>\n<polyline fill=\"none\" stroke=\"#000000\" points=\"218,-134.5 309,-134.5 \"/>\n<text text-anchor=\"middle\" x=\"263.5\" y=\"-119.3\" font-family=\"Times,serif\" font-size=\"14.00\" fill=\"#000000\">data: 0.0000</text>\n<polyline fill=\"none\" stroke=\"#000000\" points=\"218,-111.5 309,-111.5 \"/>\n<text text-anchor=\"middle\" x=\"263.5\" y=\"-96.3\" font-family=\"Times,serif\" font-size=\"14.00\" fill=\"#000000\">grad: 0.5000</text>\n</g>\n<!-- 139830255833232&#45;&gt;139830255835344+ -->\n<g id=\"edge8\" class=\"edge\">\n<title>139830255833232&#45;&gt;139830255835344+</title>\n<path fill=\"none\" stroke=\"#000000\" d=\"M309.1993,-141.5324C319.3434,-145.6462 329.8967,-149.9258 339.392,-153.7765\"/>\n<polygon fill=\"#000000\" stroke=\"#000000\" points=\"338.2602,-157.0943 348.8426,-157.609 340.8909,-150.6074 338.2602,-157.0943\"/>\n</g>\n<!-- 139830255833232*&#45;&gt;139830255833232 -->\n<g id=\"edge4\" class=\"edge\">\n<title>139830255833232*&#45;&gt;139830255833232</title>\n<path fill=\"none\" stroke=\"#000000\" d=\"M182.0992,-123C189.9432,-123 198.8075,-123 207.7268,-123\"/>\n<polygon fill=\"#000000\" stroke=\"#000000\" points=\"207.7688,-126.5001 217.7688,-123 207.7687,-119.5001 207.7688,-126.5001\"/>\n</g>\n<!-- 139830255834832 -->\n<g id=\"node11\" class=\"node\">\n<title>139830255834832</title>\n<polygon fill=\"none\" stroke=\"#000000\" points=\"438.5,-220.5 438.5,-289.5 529.5,-289.5 529.5,-220.5 438.5,-220.5\"/>\n<text text-anchor=\"middle\" x=\"484\" y=\"-274.3\" font-family=\"Times,serif\" font-size=\"14.00\" fill=\"#000000\">b</text>\n<polyline fill=\"none\" stroke=\"#000000\" points=\"438.5,-266.5 529.5,-266.5 \"/>\n<text text-anchor=\"middle\" x=\"484\" y=\"-251.3\" font-family=\"Times,serif\" font-size=\"14.00\" fill=\"#000000\">data: 6.8814</text>\n<polyline fill=\"none\" stroke=\"#000000\" points=\"438.5,-243.5 529.5,-243.5 \"/>\n<text text-anchor=\"middle\" x=\"484\" y=\"-228.3\" font-family=\"Times,serif\" font-size=\"14.00\" fill=\"#000000\">grad: 0.5000</text>\n</g>\n<!-- 139830255834832&#45;&gt;139830255835664+ -->\n<g id=\"edge6\" class=\"edge\">\n<title>139830255834832&#45;&gt;139830255835664+</title>\n<path fill=\"none\" stroke=\"#000000\" d=\"M529.5547,-237.1035C540.753,-232.7042 552.5291,-228.0779 563.005,-223.9623\"/>\n<polygon fill=\"#000000\" stroke=\"#000000\" points=\"564.5616,-227.1113 572.5893,-220.197 562.002,-220.596 564.5616,-227.1113\"/>\n</g>\n<!-- 139830255835344 -->\n<g id=\"node12\" class=\"node\">\n<title>139830255835344</title>\n<polygon fill=\"none\" stroke=\"#000000\" points=\"435,-132.5 435,-201.5 533,-201.5 533,-132.5 435,-132.5\"/>\n<text text-anchor=\"middle\" x=\"484\" y=\"-186.3\" font-family=\"Times,serif\" font-size=\"14.00\" fill=\"#000000\">x1w1 + x2w2</text>\n<polyline fill=\"none\" stroke=\"#000000\" points=\"435,-178.5 533,-178.5 \"/>\n<text text-anchor=\"middle\" x=\"484\" y=\"-163.3\" font-family=\"Times,serif\" font-size=\"14.00\" fill=\"#000000\">data:&#45;6.0000</text>\n<polyline fill=\"none\" stroke=\"#000000\" points=\"435,-155.5 533,-155.5 \"/>\n<text text-anchor=\"middle\" x=\"484\" y=\"-140.3\" font-family=\"Times,serif\" font-size=\"14.00\" fill=\"#000000\">grad: 0.5000</text>\n</g>\n<!-- 139830255835344&#45;&gt;139830255835664+ -->\n<g id=\"edge7\" class=\"edge\">\n<title>139830255835344&#45;&gt;139830255835664+</title>\n<path fill=\"none\" stroke=\"#000000\" d=\"M533.1248,-186.299C543.3325,-190.3092 553.8495,-194.4409 563.2916,-198.1503\"/>\n<polygon fill=\"#000000\" stroke=\"#000000\" points=\"562.0967,-201.4412 572.6841,-201.8402 564.6563,-194.9259 562.0967,-201.4412\"/>\n</g>\n<!-- 139830255835344+&#45;&gt;139830255835344 -->\n<g id=\"edge5\" class=\"edge\">\n<title>139830255835344+&#45;&gt;139830255835344</title>\n<path fill=\"none\" stroke=\"#000000\" d=\"M399.1121,-167C406.9203,-167 415.7603,-167 424.7128,-167\"/>\n<polygon fill=\"#000000\" stroke=\"#000000\" points=\"424.8192,-170.5001 434.8191,-167 424.8191,-163.5001 424.8192,-170.5001\"/>\n</g>\n<!-- 139830255835920 -->\n<g id=\"node14\" class=\"node\">\n<title>139830255835920</title>\n<polygon fill=\"none\" stroke=\"#000000\" points=\".5,-.5 .5,-69.5 91.5,-69.5 91.5,-.5 .5,-.5\"/>\n<text text-anchor=\"middle\" x=\"46\" y=\"-54.3\" font-family=\"Times,serif\" font-size=\"14.00\" fill=\"#000000\">w2</text>\n<polyline fill=\"none\" stroke=\"#000000\" points=\".5,-46.5 91.5,-46.5 \"/>\n<text text-anchor=\"middle\" x=\"46\" y=\"-31.3\" font-family=\"Times,serif\" font-size=\"14.00\" fill=\"#000000\">data: 1.0000</text>\n<polyline fill=\"none\" stroke=\"#000000\" points=\".5,-23.5 91.5,-23.5 \"/>\n<text text-anchor=\"middle\" x=\"46\" y=\"-8.3\" font-family=\"Times,serif\" font-size=\"14.00\" fill=\"#000000\">grad: 0.0000</text>\n</g>\n<!-- 139830255835920&#45;&gt;139830255833232* -->\n<g id=\"edge10\" class=\"edge\">\n<title>139830255835920&#45;&gt;139830255833232*</title>\n<path fill=\"none\" stroke=\"#000000\" d=\"M88.7668,-69.5274C102.6263,-80.7166 117.5484,-92.7639 129.7138,-102.5855\"/>\n<polygon fill=\"#000000\" stroke=\"#000000\" points=\"127.6692,-105.4331 137.6486,-108.9915 132.0665,-99.9865 127.6692,-105.4331\"/>\n</g>\n<!-- 139830255834000 -->\n<g id=\"node15\" class=\"node\">\n<title>139830255834000</title>\n<polygon fill=\"none\" stroke=\"#000000\" points=\".5,-176.5 .5,-245.5 91.5,-245.5 91.5,-176.5 .5,-176.5\"/>\n<text text-anchor=\"middle\" x=\"46\" y=\"-230.3\" font-family=\"Times,serif\" font-size=\"14.00\" fill=\"#000000\">w1</text>\n<polyline fill=\"none\" stroke=\"#000000\" points=\".5,-222.5 91.5,-222.5 \"/>\n<text text-anchor=\"middle\" x=\"46\" y=\"-207.3\" font-family=\"Times,serif\" font-size=\"14.00\" fill=\"#000000\">data:&#45;3.0000</text>\n<polyline fill=\"none\" stroke=\"#000000\" points=\".5,-199.5 91.5,-199.5 \"/>\n<text text-anchor=\"middle\" x=\"46\" y=\"-184.3\" font-family=\"Times,serif\" font-size=\"14.00\" fill=\"#000000\">grad: 1.0000</text>\n</g>\n<!-- 139830255834000&#45;&gt;139830255836688* -->\n<g id=\"edge12\" class=\"edge\">\n<title>139830255834000&#45;&gt;139830255836688*</title>\n<path fill=\"none\" stroke=\"#000000\" d=\"M91.5942,-211C100.2902,-211 109.297,-211 117.6967,-211\"/>\n<polygon fill=\"#000000\" stroke=\"#000000\" points=\"117.9424,-214.5001 127.9424,-211 117.9424,-207.5001 117.9424,-214.5001\"/>\n</g>\n</g>\n</svg>\n"
          },
          "metadata": {},
          "execution_count": 15
        }
      ]
    },
    {
      "cell_type": "markdown",
      "source": [
        "###### Building out Neural Network Module"
      ],
      "metadata": {
        "id": "jFsxlpV59GOx"
      }
    },
    {
      "cell_type": "code",
      "source": [
        "class Neuron:\n",
        "  def __init__(self, num_of_inputs):\n",
        "      self.w = [Value(random.uniform(-1,1)) for _ in range(num_of_inputs)]\n",
        "      self.b = Value(random.uniform(-1,1))\n",
        "\n",
        "  def __call__(self, x) -> Value:\n",
        "    act = sum((xi*wi for xi, wi in zip(x, self.w)), self.b)\n",
        "    out = act.tanh()\n",
        "    return out\n",
        "\n",
        "  def parameters(self):\n",
        "    return self.w + [self.b]\n",
        "\n",
        "  def __repr__(self) -> str:\n",
        "    out = self.__call__(x)\n",
        "    return f\"Value(data={out.data})\"\n",
        "\n",
        "class Layer:\n",
        "  def __init__(self, num_of_inputs, num_of_outputs):\n",
        "      self.neurons = [Neuron(num_of_inputs) for _ in range(num_of_outputs)]\n",
        "\n",
        "  def __call__(self, x):\n",
        "      outs = [n(x) for n in self.neurons]\n",
        "      return outs[0] if len(outs) == 1 else outs\n",
        "\n",
        "  def parameters(self):\n",
        "    return [p for neuron in self.neurons for p in neuron.parameters()]\n",
        "\n",
        "class MLP:\n",
        "  def __init__(self, num_of_inputs, list_of_outputs):\n",
        "    sz = [num_of_inputs] + list_of_outputs\n",
        "    self.layers = [Layer(sz[i], sz[i+1]) for i in range(len(list_of_outputs))]\n",
        "\n",
        "  def __call__(self, x):\n",
        "    for layer in self.layers:\n",
        "      x = layer(x)\n",
        "    return x\n",
        "\n",
        "  def parameters(self):\n",
        "    return [p for layer in self.layers for p in layer.parameters()]"
      ],
      "metadata": {
        "id": "Tu--U151iKVN"
      },
      "execution_count": 16,
      "outputs": []
    },
    {
      "cell_type": "code",
      "source": [
        "xs = [\n",
        "    [2.0, 3.0, -1.0],\n",
        "    [3.0, -1.0, 0.5],\n",
        "    [0.5, 1.0, 1.0],\n",
        "    [1.0, 1.0, -1.0],\n",
        "]\n",
        "ys = [1.0, -1.0, -1.0, 1.0] # desired targets"
      ],
      "metadata": {
        "id": "JvcoDkvvHSO_"
      },
      "execution_count": 17,
      "outputs": []
    },
    {
      "cell_type": "code",
      "source": [
        "n = MLP(3, [4,4,1])\n",
        "for k in range(1000):\n",
        "  # feed forward\n",
        "  y_pred = [n(x) for x in xs]\n",
        "  loss = sum((yout - ygt)**2 for (yout, ygt) in zip(y_pred, ys))\n",
        "\n",
        "  # Back propagation\n",
        "  for p in n.parameters():\n",
        "    p.grad = 0\n",
        "  loss.backward()\n",
        "\n",
        "  #Gradient descent\n",
        "  for p in n.parameters():\n",
        "    p.data += -0.05*p.grad\n",
        "\n",
        "print(f'Actual Output: {ys}')\n",
        "print(f'Predicted Output: {y_pred}')\n",
        "print(f'Loss: {loss}')"
      ],
      "metadata": {
        "colab": {
          "base_uri": "https://localhost:8080/"
        },
        "id": "YbY44udUkYPz",
        "outputId": "88375512-607b-4809-ae7d-09ad050f9acb"
      },
      "execution_count": 18,
      "outputs": [
        {
          "output_type": "stream",
          "name": "stdout",
          "text": [
            "Actual Output: [1.0, -1.0, -1.0, 1.0]\n",
            "Predicted Output: [Value(data=0.9899171200187833, label=), Value(data=-0.9886567073090763, label=), Value(data=-0.9850515116396992, label=), Value(data=0.9906082627819109, label=)]\n",
            "Loss: Value(data=0.0005419967900192724, label=)\n"
          ]
        }
      ]
    },
    {
      "cell_type": "markdown",
      "source": [
        "###### Doing the Same with pytorch"
      ],
      "metadata": {
        "id": "pnn265oz_7Fj"
      }
    },
    {
      "cell_type": "code",
      "source": [
        "x1 = torch.Tensor([2.0]).double()               ; x1.requires_grad = True\n",
        "x2 = torch.Tensor([0.0]).double()               ; x2.requires_grad = True\n",
        "w1 = torch.Tensor([-3.0]).double()              ; w1.requires_grad = True\n",
        "w2 = torch.Tensor([1.0]).double()               ; w2.requires_grad = True\n",
        "b = torch.Tensor([6.8813735870195432]).double() ; b.requires_grad = True\n",
        "n = x1*w1 + x2*w2 + b\n",
        "o = torch.tanh(n)\n",
        "\n",
        "print(o.item())\n",
        "o.backward()\n",
        "\n",
        "print('-------')\n",
        "print('x1', x1.grad.item())\n",
        "print('w1', w1.grad.item())\n",
        "print('x2', x2.grad.item())\n",
        "print('w2', w2.grad.item())"
      ],
      "metadata": {
        "colab": {
          "base_uri": "https://localhost:8080/"
        },
        "id": "MykWCW2eiOuR",
        "outputId": "b7f6b768-f183-4a3b-b17e-8dae92b37f14"
      },
      "execution_count": 19,
      "outputs": [
        {
          "output_type": "stream",
          "name": "stdout",
          "text": [
            "0.7071066904050358\n",
            "-------\n",
            "x1 -1.5000003851533106\n",
            "w1 1.0000002567688737\n",
            "x2 0.5000001283844369\n",
            "w2 0.0\n"
          ]
        }
      ]
    },
    {
      "cell_type": "markdown",
      "source": [
        "###### credits: https://www.youtube.com/watch?v=VMj-3S1tku0&t=1741s"
      ],
      "metadata": {
        "id": "njeYwob2ZM4e"
      }
    },
    {
      "cell_type": "markdown",
      "source": [
        "###### Exercises"
      ],
      "metadata": {
        "id": "QcM9DG2bopxg"
      }
    },
    {
      "cell_type": "code",
      "source": [
        "# here is a mathematical expression that takes 3 inputs and produces one output\n",
        "from math import sin, cos\n",
        "\n",
        "def f(a, b, c):\n",
        "  return -a**3 + sin(3*b) - 1.0/c + b**2.5 - a**0.5\n",
        "\n",
        "print(f(2, 3, 4))"
      ],
      "metadata": {
        "id": "T-iPTLKGosby",
        "colab": {
          "base_uri": "https://localhost:8080/"
        },
        "outputId": "5813644e-1a11-462a-fad8-1dc5638bf04d"
      },
      "execution_count": 20,
      "outputs": [
        {
          "output_type": "stream",
          "name": "stdout",
          "text": [
            "6.336362190988558\n"
          ]
        }
      ]
    },
    {
      "cell_type": "code",
      "source": [
        "\"\"\"# inputs x1, x2\n",
        "x1 = Value(2.0, label='x1')\n",
        "x2 = Value(0.0, label='x2')\n",
        "# weights w1, w2\n",
        "w1 = Value(-3.0, label='w1')\n",
        "w2 = Value(1.0, label='w2')\n",
        "# bias of the neuron\n",
        "b = Value(6.8813735870195432, label='b')\n",
        "# x1*w1 + x2*w2 + b\n",
        "x1w1 = x1*w1; x1w1.label='x1*w1'\n",
        "x2w2 = x2*w2; x2w2.label='x2*w2'\n",
        "x1w1x2w2 = x1w1 + x2w2; x1w1x2w2.label = 'x1w1 + x2w2'\n",
        "n = x1w1x2w2 + b; n.label = 'n'\n",
        "# ----------------------------------------------\n",
        "e = (2*n).exp()\n",
        "o = (e - 1) / (e + 1); o.label='o'\n",
        "# --------------------------------\n",
        "o.backward()\"\"\""
      ],
      "metadata": {
        "id": "-etkKub5ZMZ2",
        "colab": {
          "base_uri": "https://localhost:8080/",
          "height": 122
        },
        "outputId": "7d1d4406-397b-4ea5-e4ab-78c748fe1a3c"
      },
      "execution_count": 21,
      "outputs": [
        {
          "output_type": "execute_result",
          "data": {
            "text/plain": [
              "\"# inputs x1, x2\\nx1 = Value(2.0, label='x1')\\nx2 = Value(0.0, label='x2')\\n# weights w1, w2\\nw1 = Value(-3.0, label='w1')\\nw2 = Value(1.0, label='w2')\\n# bias of the neuron\\nb = Value(6.8813735870195432, label='b')\\n# x1*w1 + x2*w2 + b\\nx1w1 = x1*w1; x1w1.label='x1*w1'\\nx2w2 = x2*w2; x2w2.label='x2*w2'\\nx1w1x2w2 = x1w1 + x2w2; x1w1x2w2.label = 'x1w1 + x2w2'\\nn = x1w1x2w2 + b; n.label = 'n'\\n# ----------------------------------------------\\ne = (2*n).exp()\\no = (e - 1) / (e + 1); o.label='o'\\n# --------------------------------\\no.backward()\""
            ],
            "application/vnd.google.colaboratory.intrinsic+json": {
              "type": "string"
            }
          },
          "metadata": {},
          "execution_count": 21
        }
      ]
    }
  ]
}